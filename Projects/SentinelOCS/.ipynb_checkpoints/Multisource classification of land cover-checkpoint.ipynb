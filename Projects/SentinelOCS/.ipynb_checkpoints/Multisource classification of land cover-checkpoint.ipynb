{
 "cells": [
  {
   "cell_type": "markdown",
   "metadata": {},
   "source": [
    "# Context\n",
    "Classification of land covers is an important question in several scientifict fields. Remote sensing offers the possibility to cover large geographical scale, at a reduce cost, and allows mapping of landscapes on a regular basis. It is possible, using data analysis tools, to associate to each pixel of the image a pre-defined land-cover.\n",
    "\n",
    "Machine learning algorithms are conventionaly applied to derive pixel-wise land cover automatically. However, they may failed on data set with high dimension (i.e., a high number of spectro-temporal feature). Hence, feature extraction are usually performed before the actual analysis.\n",
    "\n",
    "In this project, it is proposed to use satellite image time series (SITS) on one year to classify land cover. \n",
    "\n",
    "The objective of the project is to investigate different feature extraction and classification algorithms for the classification of land cover. Two points are proposed here:\n",
    "- *Feature extraction*: Different feature extraction algorithm should be investigated to extract relevant feature.\n",
    "- *Classification*: Try several classifiers, with and without feature extraction and compare the different results w.r.t the classification accuracy. For the best results, classify the whole data cube.\n",
    "\n",
    "# Data sets\n",
    "In this project, you are going to use multispectral Sentinel-2 Level 3 time series. On image cloud-free per month from February to December 2018.\n",
    "\n",
    "The folowing files contain the training and the validation data:"
   ]
  },
  {
   "cell_type": "code",
   "execution_count": 2,
   "metadata": {},
   "outputs": [
    {
     "name": "stdout",
     "output_type": "stream",
     "text": [
      "-rw-r--r-- 1 mfauvel mfauvel 308M janv. 21 09:41 spectro_temporal_stack_validation.npz\r\n",
      "-rw-r--r-- 1 mfauvel mfauvel  35M janv. 21 09:39 spectro_temporal_stack_train.npz\r\n"
     ]
    }
   ],
   "source": [
    "ls -lth *npz"
   ]
  },
  {
   "cell_type": "markdown",
   "metadata": {},
   "source": [
    "The files can be downloaded here:\n",
    "- https://drive.google.com/open?id=1DdVbTGsKd5-esBU4BJ27T6BX_TeWMy6G\n",
    "- https://drive.google.com/open?id=1KmD44iR5CJHJRRh9kbbUuXwfKFwSoO06"
   ]
  },
  {
   "cell_type": "markdown",
   "metadata": {},
   "source": [
    "The folowing file contain the file They contain pixels with all the spectro-temporal information. For each pixel, the data is organized as:  $[b_1t_1,b_2t_1, ...., b_1t_{11},...,b_{10},t_{11}]$ where $b_i$ is the ith band of the image acquired ar time $t_j$. The band of Sentinel-2 are : $[B2, B3, B4, B5, B6, B7, B8, B8A, B11, B12]$, see [https://en.wikipedia.org/wiki/Sentinel-2]"
   ]
  },
  {
   "cell_type": "markdown",
   "metadata": {},
   "source": [
    "# Work\n",
    "1. Describe the data statistically and visualize the main property of the class\n",
    "2. Do a classification of each date, then classify all the time series.\n",
    "3. Apply feature extraction/reduction on the data\n",
    "4. For the best results you have, try to perform the classification of the whole data set."
   ]
  },
  {
   "cell_type": "code",
   "execution_count": null,
   "metadata": {
    "collapsed": true
   },
   "outputs": [],
   "source": []
  }
 ],
 "metadata": {
  "kernelspec": {
   "display_name": "Python 3",
   "language": "python",
   "name": "python3"
  },
  "language_info": {
   "codemirror_mode": {
    "name": "ipython",
    "version": 3
   },
   "file_extension": ".py",
   "mimetype": "text/x-python",
   "name": "python",
   "nbconvert_exporter": "python",
   "pygments_lexer": "ipython3",
   "version": "3.7.3"
  }
 },
 "nbformat": 4,
 "nbformat_minor": 2
}
