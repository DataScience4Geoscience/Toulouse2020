{
 "cells": [
  {
   "cell_type": "markdown",
   "metadata": {
    "colab_type": "text",
    "id": "jm6B9mTuqGmf"
   },
   "source": [
    "# TP - Séparation de composantes (ACP/EOF)\n",
    "\n",
    "L'objectf de ce TP est d'introduire l'Analyse en Composantes Principales (ACP), connue en géosciences sour le nom de \"Empirical Orthogonal Functions\" (EOF).\n",
    "\n",
    "On commencera par appliquer l'ACP en utilisant Numpy/Scipy sur des données jouets pour comprendre son fonctionnement puis on utilisera la bibliothèque Scikit Learn pour appliquer l'ACP sur des données de simulation de SSH pour analyser ces données."
   ]
  },
  {
   "cell_type": "markdown",
   "metadata": {
    "colab_type": "text",
    "id": "gZ5zxZdWqGmj"
   },
   "source": [
    "# I) ACP sur un problème purement linéaire\n",
    "\n",
    "Ici, on reprend l'exemple du système poids-ressort de la vidéo et on simule l'acquisition de la position par des caméras placées autour du système.\n",
    "\n",
    "https://www.youtube.com/watch?v=a9jdQGybYmE\n",
    "\n",
    "On commence par simuler les données. On suppose que les images acquises par les caméras ont permis de détecter les coordonnées du centre de gravité de la masse. On a donc un couple de coordonnées qui évolue au cours du temps pour chaque caméra.\n",
    "\n",
    "Dans le repère orthonormé direct usuel où la verticale est le troisième axe, les coordonnées du système au cours du temps sont données par:\n",
    "\n",
    "$\\mathbf{\\gamma}(t) = \\left[ 0,0, z(t)\\right]^T \\in \\mathbb{R}^{3}$ où $z(t) = A \\cos (\\omega t + \\phi)$\n",
    "\n",
    "On peut rassembler ces coordonnées au cours du temps dans une matrice $\\mathbf{X} \\in \\mathbb{R}^{3\\times n}$, où $n$ est le nombre d'échantillons temporels.\n",
    "\n",
    "Pour trouver les coordonnées dans les plans des caméras, il faut projeter ces coordonnées dans chacun des plans.\n",
    "\n",
    "Par exemple, si le plan de la première caméra a pour vecteurs de base $\\mathbf{a}_1$ et $\\mathbf{b}_1 \\in \\mathbb{R}^{3}$ (orthogonaux en général pour une caméra mais pas forcément dans ce qui va suivre), alors pour trouve les coordonnées $\\mathbf{y}_1 \\in \\mathbb{R}^2$ de la masse dans ce plan, on doit calculer:\n",
    "\n",
    "\\begin{equation}\n",
    "\\mathbf{y}_1 = (\\mathbf{M}_1^T\\mathbf{M}_1)^{-1}\\mathbf{M}_1^{T}\\mathbf{x} = \\mathbf{P}_{1}\\mathbf{x}\n",
    "\\end{equation}\n",
    "\n",
    "où $\\mathbf{M}_1 = \\left[\\mathbf{a}_1,\\mathbf{b}_1\\right]^T \\in \\mathbb{R}^{2\\times 3} $ et $\\mathbf{P}_1 \\in \\mathbb{R}^{2\\times 3} $\n",
    "\n",
    "En écrivant une relation de ce type pour chaque caméra on obtient donc\n",
    "$\\mathbf{Y} = \\mathbf{PX}$\n",
    "\n",
    "avec $\\mathbf{P} = \\left[ \\mathbf{P}_{1}^T, \\mathbf{P}_2^{T}, \\mathbf{P}_{3}^{T} \\right]^T \\in \\mathbb{R}^{6\\times 3}$\n"
   ]
  },
  {
   "cell_type": "code",
   "execution_count": 0,
   "metadata": {
    "colab": {
     "base_uri": "https://localhost:8080/",
     "height": 282
    },
    "colab_type": "code",
    "id": "-cY6C7YJqGml",
    "outputId": "b26075d8-d170-49ae-9022-3779b04ce22d"
   },
   "outputs": [
    {
     "data": {
      "text/plain": [
       "[<matplotlib.lines.Line2D at 0x7f2178a21470>]"
      ]
     },
     "execution_count": 36,
     "metadata": {
      "tags": []
     },
     "output_type": "execute_result"
    },
    {
     "data": {
      "image/png": "[encoded data removed]",
      "text/plain": [
       "<Figure size 432x288 with 1 Axes>"
      ]
     },
     "metadata": {
      "tags": []
     },
     "output_type": "display_data"
    }
   ],
   "source": [
    "import numpy as np\n",
    "import matplotlib.pyplot as plt\n",
    "\n",
    "from mpl_toolkits.mplot3d import Axes3D\n",
    "\n",
    "A = 1 # amplitude of the oscillations\n",
    "m = 1 # mass of the object\n",
    "k = 1 # stiffness of the spring\n",
    "phi = np.pi/2 # phase\n",
    "\n",
    "w = np.sqrt(m/k) # frequency of the oscillations\n",
    "\n",
    "n = 1000 # number of time samples\n",
    "t = np.linspace(0,10,n)\n",
    "\n",
    "# mass-spring \n",
    "\n",
    "z = A*np.cos(w*t + phi)\n",
    "\n",
    "plt.figure\n",
    "plt.plot(t,z)\n",
    "\n"
   ]
  },
  {
   "cell_type": "markdown",
   "metadata": {
    "colab_type": "text",
    "id": "S1FV1aZUGtGe"
   },
   "source": [
    "1) Simuler un jeu de données en 3 dimensions en utilisant la composante $z$ générée ci-dessus. Le représenter via un scatterplot en 3 dimensions.\n",
    "\n",
    "2) Générer des données en 6 dimensions en projetant les données de la question 1 sur trois plans (vecteurs de base au choix) en utilisant les formules ci-dessus. Représenter les données dans chacun des plans via des scatterplots.\n"
   ]
  },
  {
   "cell_type": "code",
   "execution_count": 0,
   "metadata": {
    "colab": {},
    "colab_type": "code",
    "id": "vX9-jCPCGqHC"
   },
   "outputs": [],
   "source": [
    "X = ...\n",
    "\n",
    "\n",
    "fig = plt.figure()\n",
    "ax = fig.add_subplot(111, projection='3d')\n",
    "...\n"
   ]
  },
  {
   "cell_type": "markdown",
   "metadata": {
    "colab_type": "text",
    "id": "BO2iDNWuLaxw"
   },
   "source": [
    "3) Calculer la matrice de covariance des données. Comparer avec la matrice de covariance théorique. Puis effectuer sa décomposition en valeurs et vecteurs propres. Représenter les valeurs propres par ordre décroissant. Commenter.\n",
    "\n",
    "4) Calculer la projection des données sur le premier axe propre, visualiser ces projections et interpréter. \n",
    "\n",
    "Aide: l'ACP permet d'approximer un jeu de données $\\mathbf{Y} \\in \\mathbb{R}^{p\\times n }$ avec $p$ variables et $n$ échantillons par un produit de composantes principales expliquant le plus de variance et des coefficients associés, du type $\\mathbf{UW}$, où $\\mathbf{U} \\in \\mathbb{R}^{p \\times k}$ contient les $k$ composantes principales retenues et $\\mathbf{W}^{k \\times n}$ contient les coefficients de la décomposition.\n",
    "\n",
    "Pour retrouver les coefficients de la projection depuis les données, il suffit de calculer $\\mathbf{W} = \\mathbf{U}^T \\mathbf{Y}$ (car $\\mathbf{U}^{-1} = \\mathbf{U}^{T}$).\n",
    "\n",
    "En particulier, pour la projection des points de données sur la composante $k$, il suffit de calculer $\\mathbf{w}_{k} = \\mathbf{Y}^T\\mathbf{u}_{k} \\in \\mathbb{R}^{n} $, où $\\mathbf{u}_{k}$ est la $k^{eme}$ colonne de $\\mathbf{U}$. \n"
   ]
  },
  {
   "cell_type": "code",
   "execution_count": 0,
   "metadata": {
    "colab": {},
    "colab_type": "code",
    "id": "uEg_-YP9qGmv"
   },
   "outputs": [],
   "source": [
    "# Do PCA on the dataset\n",
    "\n",
    "C = ...\n",
    "\n",
    "C_th = ..\n",
    "\n"
   ]
  },
  {
   "cell_type": "markdown",
   "metadata": {
    "colab_type": "text",
    "id": "u4mEFYDwqGm2"
   },
   "source": [
    "5) Refaire le même exercice dans les deux cas suivants:\n",
    "\n",
    "i) Avec des données $\\mathbf{Y}$ bruitées (ajouter un bruit gaussien de covariance diagonale $\\sim \\mathcal{N}(\\mathbf{0},\\sigma^2 \\mathbf{I}_{p})$ à chaque point de données, en testant différentes valeurs pour le rapport signal à bruit)\n",
    "\n",
    "ii) Avec un système physique différent: mouvement d'un pendule simple dans un plan vertical."
   ]
  },
  {
   "cell_type": "markdown",
   "metadata": {
    "colab_type": "text",
    "id": "g2Trc7GWqGm4"
   },
   "source": [
    "# II) ACP sur un problème non linéaire\n",
    "\n",
    "Maintenant on applique l'ACP sur un jeu de données jouet qui consiste en de nombreuses rotations d'une image de base avec différents angles.\n",
    "\n",
    "L'image de base est une image en niveaux de gris représentant le chiffre 3. On utilise un algorithme pour tourner l'image avec $n$ rotations couvrant l'ensemble des angles possibles (de 0° à 360°). Chaque image est de taille $61\\times 61$, et les données vivent donc dans $\\mathbb{R}^{3721}$."
   ]
  },
  {
   "cell_type": "code",
   "execution_count": 3,
   "metadata": {
    "colab": {
     "base_uri": "https://localhost:8080/",
     "height": 141
    },
    "colab_type": "code",
    "id": "NCRwh9bOxR0k",
    "outputId": "aa87a609-7df6-458e-d1a3-25c3f84f6354"
   },
   "outputs": [
    {
     "name": "stdout",
     "output_type": "stream",
     "text": [
      "/home/administrateur/Documents/cours/isblue/classes_inversées/PCA_EOF/lab\n"
     ]
    },
    {
     "ename": "NameError",
     "evalue": "name 'drive' is not defined",
     "output_type": "error",
     "traceback": [
      "\u001b[0;31m---------------------------------------------------------------------------\u001b[0m",
      "\u001b[0;31mNameError\u001b[0m                                 Traceback (most recent call last)",
      "\u001b[0;32m<ipython-input-3-59a024da53b7>\u001b[0m in \u001b[0;36m<module>\u001b[0;34m\u001b[0m\n\u001b[1;32m      8\u001b[0m \u001b[0mprint\u001b[0m\u001b[0;34m(\u001b[0m\u001b[0mos\u001b[0m\u001b[0;34m.\u001b[0m\u001b[0mgetcwd\u001b[0m\u001b[0;34m(\u001b[0m\u001b[0;34m)\u001b[0m\u001b[0;34m)\u001b[0m\u001b[0;34m\u001b[0m\u001b[0;34m\u001b[0m\u001b[0m\n\u001b[1;32m      9\u001b[0m \u001b[0;34m\u001b[0m\u001b[0m\n\u001b[0;32m---> 10\u001b[0;31m \u001b[0mdrive\u001b[0m\u001b[0;34m.\u001b[0m\u001b[0mmount\u001b[0m\u001b[0;34m(\u001b[0m\u001b[0;34m\"/content/gdrive/\"\u001b[0m\u001b[0;34m)\u001b[0m\u001b[0;34m\u001b[0m\u001b[0;34m\u001b[0m\u001b[0m\n\u001b[0m\u001b[1;32m     11\u001b[0m \u001b[0;34m\u001b[0m\u001b[0m\n\u001b[1;32m     12\u001b[0m \u001b[0mget_ipython\u001b[0m\u001b[0;34m(\u001b[0m\u001b[0;34m)\u001b[0m\u001b[0;34m.\u001b[0m\u001b[0msystem\u001b[0m\u001b[0;34m(\u001b[0m\u001b[0;34m'ls \"/content/gdrive/My Drive/DS1/Classes inversées/Classe inversée 2: Séparation de processus géophysiques/Données/\"'\u001b[0m\u001b[0;34m)\u001b[0m\u001b[0;34m\u001b[0m\u001b[0;34m\u001b[0m\u001b[0m\n",
      "\u001b[0;31mNameError\u001b[0m: name 'drive' is not defined"
     ]
    }
   ],
   "source": [
    "import scipy.io as sio\n",
    "import scipy as sp\n",
    "import skimage \n",
    "\n",
    "# from google.colab import drive\n",
    "\n",
    "import os\n",
    "print(os.getcwd())\n",
    "\n",
    "drive.mount(\"/content/gdrive/\")\n",
    "\n",
    "!ls \"/content/gdrive/My Drive/DS1/Classes inversées/Classe inversée 2: Séparation de processus géophysiques/Données/\"\n",
    "\n",
    "path = \"/content/gdrive/My Drive/DS1/Classes inversées/Classe inversée 2: Séparation de processus géophysiques/Données/image3.mat\"\n",
    "\n"
   ]
  },
  {
   "cell_type": "code",
   "execution_count": 0,
   "metadata": {
    "colab": {
     "base_uri": "https://localhost:8080/",
     "height": 537
    },
    "colab_type": "code",
    "id": "oG8hQDG3qGm5",
    "outputId": "95b5df08-4009-464e-82db-d019bacb5b20"
   },
   "outputs": [
    {
     "data": {
      "text/plain": [
       "<matplotlib.image.AxesImage at 0x7f215f56eba8>"
      ]
     },
     "execution_count": 49,
     "metadata": {
      "tags": []
     },
     "output_type": "execute_result"
    },
    {
     "data": {
      "image/png": "[encoded data removed]",
      "text/plain": [
       "<Figure size 432x288 with 1 Axes>"
      ]
     },
     "metadata": {
      "tags": []
     },
     "output_type": "display_data"
    },
    {
     "data": {
      "image/png": "[encoded data removed]",
      "text/plain": [
       "<Figure size 432x288 with 4 Axes>"
      ]
     },
     "metadata": {
      "tags": []
     },
     "output_type": "display_data"
    }
   ],
   "source": [
    "data = sio.loadmat(path)\n",
    "\n",
    "im = data['image3']\n",
    "\n",
    "m,n = im.shape\n",
    "\n",
    "plt.figure\n",
    "plt.imshow(im, cmap ='gray')\n",
    "\n",
    "nb_images = 100;\n",
    "\n",
    "theta = np.linspace(0,360,nb_images)\n",
    "\n",
    "images = np.zeros((m,n,nb_images))\n",
    "\n",
    "for i in range(nb_images):\n",
    "    images[:,:,i] = skimage.transform.rotate(im,theta[i])\n",
    "\n",
    "\n",
    "plt.figure()\n",
    "plt.subplot(221)\n",
    "plt.imshow(images[:,:,0], cmap ='gray')\n",
    "plt.subplot(222)\n",
    "plt.imshow(images[:,:,25], cmap ='gray')\n",
    "plt.subplot(223)\n",
    "plt.imshow(images[:,:,75], cmap ='gray')\n",
    "plt.subplot(224)\n",
    "plt.imshow(images[:,:,99], cmap ='gray')\n"
   ]
  },
  {
   "cell_type": "markdown",
   "metadata": {
    "colab_type": "text",
    "id": "206-PpLNjEZQ"
   },
   "source": [
    "1) Visualiser et interpréter la matrice de covariance de ce jeu de données en traitant chaque pixel comme une caractéristique et les différentes rotations comme les échantillons."
   ]
  },
  {
   "cell_type": "code",
   "execution_count": 0,
   "metadata": {
    "colab": {},
    "colab_type": "code",
    "id": "tBt9ybPgqGnA"
   },
   "outputs": [],
   "source": [
    "from sklearn.decomposition import PCA\n",
    "\n",
    "# reshape data\n",
    "im = ...\n",
    "\n",
    "# visualize covariance matrix\n",
    "\n",
    "cov = ..."
   ]
  },
  {
   "cell_type": "markdown",
   "metadata": {
    "colab_type": "text",
    "id": "0O8Whpvrj87G"
   },
   "source": [
    "2) Appliquer l'ACP à ces données en utilisant le package scikit-learn\n",
    "\n",
    "https://scikit-learn.org/stable/modules/generated/sklearn.decomposition.PCA.html\n",
    "\n",
    "Visualiser d'abord toutes les valeurs propres comme auparavant, ainsi que la variance totale expliquée en fonction du nombre de composantes. Puis visualiser les 16 premières composantes principales sous la forme d'images ainsi que les coefficients associés pour une image au hasard.\n",
    "\n",
    "3) Ajouter du bruit aux données (SNR = 10 dB par exemple) et refaire la décomposition. Regarder en particulier les dernières composantes et commenter.\n"
   ]
  },
  {
   "cell_type": "code",
   "execution_count": 0,
   "metadata": {
    "colab": {},
    "colab_type": "code",
    "id": "zfueGpsIqGnL"
   },
   "outputs": [],
   "source": [
    "# Compute the PCA\n"
   ]
  },
  {
   "cell_type": "markdown",
   "metadata": {
    "colab_type": "text",
    "id": "kwPOTkaEkvNF"
   },
   "source": [
    "3) Visualiser la reconstruction d'un échantillon au hasard en utilisant 3,16 et 50 composantes. Commenter la qualité de la reconstruction."
   ]
  },
  {
   "cell_type": "code",
   "execution_count": 0,
   "metadata": {
    "colab": {},
    "colab_type": "code",
    "id": "-JnuacOcqGnQ"
   },
   "outputs": [],
   "source": [
    "# Reconstruct samples\n"
   ]
  },
  {
   "cell_type": "markdown",
   "metadata": {
    "colab_type": "text",
    "id": "q7vdMcUqly5A"
   },
   "source": [
    "4) Visualiser les données en 2 et 3D de deux façons:\n",
    "\n",
    "i) En utilisant les projections sur des vecteurs de la base canonique de $\\mathbb{R}^{3721}$\n",
    "ii) En utilisant les projections sur les premières composantes principales.\n",
    "\n",
    "Comparer.\n",
    "\n",
    "Conclure sur la dimension intrinsèque des données et l'utilité/la capacité de l'ACP à expliquer ces données."
   ]
  },
  {
   "cell_type": "code",
   "execution_count": 0,
   "metadata": {
    "colab": {},
    "colab_type": "code",
    "id": "AR9rQk3YqGnV"
   },
   "outputs": [],
   "source": [
    "# Last thing: use first 3 principal components to show a scatterplot of the\n",
    "# data and compare to a visualization using 3 vectors of the original basis\n"
   ]
  },
  {
   "cell_type": "markdown",
   "metadata": {
    "colab_type": "text",
    "id": "LU6Mv0uaqGna"
   },
   "source": [
    "# III) ACP sur un jeu de données de SSH simulé\n",
    "\n",
    "Dans cette dernière partie, on va appliquer l'ACP à des données simulées de température de l'océan (Sea Surface Height, SSH), pour la zone du Golfe du Mexique.\n",
    "\n",
    "Les données consistent en des simulation d'un modèle dynamique pour cette zone sur une période de 7 ans, avec 50 conditions initiales différentes. Pour chaque membre, les données consistent en une série temporelles d'images d'environ 70x80 pixels.\n",
    "\n",
    "Les données sont volumineuses et difficiles à analyser telles quelles. C'est pourquoi on utilise l'ACP/EOF pour réduire la dimensionalité des données et isoler des modes de variation représentatifs du comportement du système.\n"
   ]
  },
  {
   "cell_type": "code",
   "execution_count": 0,
   "metadata": {
    "colab": {},
    "colab_type": "code",
    "id": "KFTu2F3xqNmf"
   },
   "outputs": [],
   "source": [
    "import pickle\n",
    "import os\n",
    "\n",
    "dirDATA = \"/content/gdrive/My Drive/data_dsg/\" # first you need to add the directory to your own drive\n",
    "\n",
    "genFilename = 'GOM025.GSL301_m0'\n",
    "genSuffix   = '_1d_dtrend.nc'\n",
    "NbFile      = 50\n",
    "# NbRandDates = 500  # number of random dates selected for each member for PCA and autoencoding\n",
    "\n",
    "NbRandDates = 100  # number of random dates selected for each member for PCA and autoencoding\n",
    "\n",
    "SelectedField = 'ssht'\n",
    "    \n",
    "plt.rcParams['figure.figsize'] = [12, 7] \n",
    "# plt.rcParams['figure.figsize'] = [24,14] \n",
    "    \n",
    "    \n",
    "latBounds = [17,32]\n",
    "lonBounds = [-99,-79]"
   ]
  },
  {
   "cell_type": "code",
   "execution_count": 0,
   "metadata": {
    "colab": {},
    "colab_type": "code",
    "id": "71FYl3CX1dgz"
   },
   "outputs": [],
   "source": [
    "# test for reading a given member (so one time series of images)\n",
    "\n",
    "filename = dirDATA+genFilename+'03'+genSuffix+'ROI.pkl' # member #3\n",
    "\n",
    "# useful variables to load \n",
    "\n",
    "filehandler = open(filename, 'rb') \n",
    "SelectedField = pickle.load(filehandler) # type of field selected (here SSH -- SLA actually)\n",
    "latBounds = pickle.load(filehandler)\n",
    "lonBounds = pickle.load(filehandler) \n",
    "indNoNaN = pickle.load(filehandler) # indices of the land pixels\n",
    "indlat = pickle.load(filehandler) # latitudes\n",
    "indlon = pickle.load(filehandler) # longitudes\n",
    "\n",
    "flagRemoveHF = pickle.load(filehandler)\n",
    "flagRemoveMean = pickle.load(filehandler)\n",
    "sigmaFilt = pickle.load(filehandler)\n",
    "\n",
    "sstROI = pickle.load(filehandler)\n",
    "sshROI = sstROI # In python this is just copying a reference to the object\n",
    "    \n",
    "print('.... reading file %s'%(filename))     "
   ]
  },
  {
   "cell_type": "markdown",
   "metadata": {
    "colab_type": "text",
    "id": "r3d69OrIpK3p"
   },
   "source": [
    "1) Visualiser les données en prenant différents membres et les images à différents instants temporels."
   ]
  },
  {
   "cell_type": "code",
   "execution_count": 0,
   "metadata": {
    "colab": {},
    "colab_type": "code",
    "id": "sxJ5G8Y81grG"
   },
   "outputs": [],
   "source": [
    "...\n"
   ]
  },
  {
   "cell_type": "code",
   "execution_count": null,
   "metadata": {},
   "outputs": [],
   "source": [
    "# Plotting the whole time series\n",
    "\n",
    "# Importing ipywidgets for interactive plotting\n",
    "from ipywidgets import *\n",
    "import matplotlib.cm as cm\n",
    "from mpl_toolkits.mplot3d import Axes3D\n",
    "\n",
    "\n",
    "def plt_ssh(t):\n",
    "    fig = plt.figure(figsize=(10,5))\n",
    "    ax = fig.add_subplot(111)\n",
    "    ax.set_title(r\"SSH data at t = {:.2f}\".format(t),fontsize=15)\n",
    "    ax.set_ylabel(r\"SSH\", fontsize=20)\n",
    "    imgplot = plt.imshow(sshROI[t,:,:],extent=(lonBounds[0],lonBounds[1],latBounds[0],latBounds[1]),vmin = -.1, vmax = 0.1)\n",
    "    imgplot.set_cmap('jet')\n",
    "    plt.colorbar(fraction=0.04, pad=0.04)\n",
    "    plt.show()\n",
    "\n",
    "\n",
    "# interactive plot u(x,y,t) for varying t\n",
    "interact(plt_ssh, t=(0,2300,1))"
   ]
  },
  {
   "cell_type": "markdown",
   "metadata": {
    "colab_type": "text",
    "id": "NjkU_Y0H2jjk"
   },
   "source": [
    "L'objectif est de pouvoir représenter chacun des membres sur une base de projection commune. Ici les données vivent dans $\\mathbb{R}^n$, où $n$ est le nombre de pixels de chaque image. Les échantillons sont donnés par les différents échantillons temporels. Pour avoir une représentation commune, il suffit de concaténer des échantillons de chaque membre pour avoir une représentation qui explique tous les membres en moyenne.\n"
   ]
  },
  {
   "cell_type": "code",
   "execution_count": 0,
   "metadata": {
    "colab": {
     "base_uri": "https://localhost:8080/",
     "height": 833
    },
    "colab_type": "code",
    "id": "POuvX-dc2T5S",
    "outputId": "acb31542-aee4-4e47-a1c6-8627a20589ed"
   },
   "outputs": [
    {
     "name": "stdout",
     "output_type": "stream",
     "text": [
      ".... reading file /content/gdrive/My Drive/data_dsg/GOM025.GSL301_m002_1d_dtrend.ncROI.pkl - shape = 100 67 77\n",
      ".... reading file /content/gdrive/My Drive/data_dsg/GOM025.GSL301_m003_1d_dtrend.ncROI.pkl - shape = 200 67 77\n",
      ".... reading file /content/gdrive/My Drive/data_dsg/GOM025.GSL301_m004_1d_dtrend.ncROI.pkl - shape = 300 67 77\n",
      ".... reading file /content/gdrive/My Drive/data_dsg/GOM025.GSL301_m005_1d_dtrend.ncROI.pkl - shape = 400 67 77\n",
      ".... reading file /content/gdrive/My Drive/data_dsg/GOM025.GSL301_m006_1d_dtrend.ncROI.pkl - shape = 500 67 77\n",
      ".... reading file /content/gdrive/My Drive/data_dsg/GOM025.GSL301_m007_1d_dtrend.ncROI.pkl - shape = 600 67 77\n",
      ".... reading file /content/gdrive/My Drive/data_dsg/GOM025.GSL301_m008_1d_dtrend.ncROI.pkl - shape = 700 67 77\n",
      ".... reading file /content/gdrive/My Drive/data_dsg/GOM025.GSL301_m009_1d_dtrend.ncROI.pkl - shape = 800 67 77\n",
      ".... reading file /content/gdrive/My Drive/data_dsg/GOM025.GSL301_m0010_1d_dtrend.ncROI.pkl - shape = 900 67 77\n",
      ".... reading file /content/gdrive/My Drive/data_dsg/GOM025.GSL301_m0011_1d_dtrend.ncROI.pkl - shape = 1000 67 77\n",
      ".... reading file /content/gdrive/My Drive/data_dsg/GOM025.GSL301_m0012_1d_dtrend.ncROI.pkl - shape = 1100 67 77\n",
      ".... reading file /content/gdrive/My Drive/data_dsg/GOM025.GSL301_m0013_1d_dtrend.ncROI.pkl - shape = 1200 67 77\n",
      ".... reading file /content/gdrive/My Drive/data_dsg/GOM025.GSL301_m0014_1d_dtrend.ncROI.pkl - shape = 1300 67 77\n",
      ".... reading file /content/gdrive/My Drive/data_dsg/GOM025.GSL301_m0015_1d_dtrend.ncROI.pkl - shape = 1400 67 77\n",
      ".... reading file /content/gdrive/My Drive/data_dsg/GOM025.GSL301_m0016_1d_dtrend.ncROI.pkl - shape = 1500 67 77\n",
      ".... reading file /content/gdrive/My Drive/data_dsg/GOM025.GSL301_m0017_1d_dtrend.ncROI.pkl - shape = 1600 67 77\n",
      ".... reading file /content/gdrive/My Drive/data_dsg/GOM025.GSL301_m0018_1d_dtrend.ncROI.pkl - shape = 1700 67 77\n",
      ".... reading file /content/gdrive/My Drive/data_dsg/GOM025.GSL301_m0019_1d_dtrend.ncROI.pkl - shape = 1800 67 77\n",
      ".... reading file /content/gdrive/My Drive/data_dsg/GOM025.GSL301_m0020_1d_dtrend.ncROI.pkl - shape = 1900 67 77\n",
      ".... reading file /content/gdrive/My Drive/data_dsg/GOM025.GSL301_m0021_1d_dtrend.ncROI.pkl - shape = 2000 67 77\n",
      ".... reading file /content/gdrive/My Drive/data_dsg/GOM025.GSL301_m0022_1d_dtrend.ncROI.pkl - shape = 2100 67 77\n",
      ".... reading file /content/gdrive/My Drive/data_dsg/GOM025.GSL301_m0023_1d_dtrend.ncROI.pkl - shape = 2200 67 77\n",
      ".... reading file /content/gdrive/My Drive/data_dsg/GOM025.GSL301_m0024_1d_dtrend.ncROI.pkl - shape = 2300 67 77\n",
      ".... reading file /content/gdrive/My Drive/data_dsg/GOM025.GSL301_m0025_1d_dtrend.ncROI.pkl - shape = 2400 67 77\n",
      ".... reading file /content/gdrive/My Drive/data_dsg/GOM025.GSL301_m0026_1d_dtrend.ncROI.pkl - shape = 2500 67 77\n",
      ".... reading file /content/gdrive/My Drive/data_dsg/GOM025.GSL301_m0027_1d_dtrend.ncROI.pkl - shape = 2600 67 77\n",
      ".... reading file /content/gdrive/My Drive/data_dsg/GOM025.GSL301_m0028_1d_dtrend.ncROI.pkl - shape = 2700 67 77\n",
      ".... reading file /content/gdrive/My Drive/data_dsg/GOM025.GSL301_m0029_1d_dtrend.ncROI.pkl - shape = 2800 67 77\n",
      ".... reading file /content/gdrive/My Drive/data_dsg/GOM025.GSL301_m0030_1d_dtrend.ncROI.pkl - shape = 2900 67 77\n",
      ".... reading file /content/gdrive/My Drive/data_dsg/GOM025.GSL301_m0031_1d_dtrend.ncROI.pkl - shape = 3000 67 77\n",
      ".... reading file /content/gdrive/My Drive/data_dsg/GOM025.GSL301_m0032_1d_dtrend.ncROI.pkl - shape = 3100 67 77\n",
      ".... reading file /content/gdrive/My Drive/data_dsg/GOM025.GSL301_m0033_1d_dtrend.ncROI.pkl - shape = 3200 67 77\n",
      ".... reading file /content/gdrive/My Drive/data_dsg/GOM025.GSL301_m0034_1d_dtrend.ncROI.pkl - shape = 3300 67 77\n",
      ".... reading file /content/gdrive/My Drive/data_dsg/GOM025.GSL301_m0035_1d_dtrend.ncROI.pkl - shape = 3400 67 77\n",
      ".... reading file /content/gdrive/My Drive/data_dsg/GOM025.GSL301_m0036_1d_dtrend.ncROI.pkl - shape = 3500 67 77\n",
      ".... reading file /content/gdrive/My Drive/data_dsg/GOM025.GSL301_m0037_1d_dtrend.ncROI.pkl - shape = 3600 67 77\n",
      ".... reading file /content/gdrive/My Drive/data_dsg/GOM025.GSL301_m0038_1d_dtrend.ncROI.pkl - shape = 3700 67 77\n",
      ".... reading file /content/gdrive/My Drive/data_dsg/GOM025.GSL301_m0039_1d_dtrend.ncROI.pkl - shape = 3800 67 77\n",
      ".... reading file /content/gdrive/My Drive/data_dsg/GOM025.GSL301_m0040_1d_dtrend.ncROI.pkl - shape = 3900 67 77\n",
      ".... reading file /content/gdrive/My Drive/data_dsg/GOM025.GSL301_m0041_1d_dtrend.ncROI.pkl - shape = 4000 67 77\n",
      ".... reading file /content/gdrive/My Drive/data_dsg/GOM025.GSL301_m0042_1d_dtrend.ncROI.pkl - shape = 4100 67 77\n",
      ".... reading file /content/gdrive/My Drive/data_dsg/GOM025.GSL301_m0043_1d_dtrend.ncROI.pkl - shape = 4200 67 77\n",
      ".... reading file /content/gdrive/My Drive/data_dsg/GOM025.GSL301_m0044_1d_dtrend.ncROI.pkl - shape = 4300 67 77\n",
      ".... reading file /content/gdrive/My Drive/data_dsg/GOM025.GSL301_m0046_1d_dtrend.ncROI.pkl - shape = 4400 67 77\n",
      ".... reading file /content/gdrive/My Drive/data_dsg/GOM025.GSL301_m0047_1d_dtrend.ncROI.pkl - shape = 4500 67 77\n",
      ".... reading file /content/gdrive/My Drive/data_dsg/GOM025.GSL301_m0048_1d_dtrend.ncROI.pkl - shape = 4600 67 77\n",
      ".... reading file /content/gdrive/My Drive/data_dsg/GOM025.GSL301_m0049_1d_dtrend.ncROI.pkl - shape = 4700 67 77\n"
     ]
    }
   ],
   "source": [
    "# Prepare the data for analysis\n",
    "\n",
    "# Concatenate all members (with some random indices because otherwise the matrix gets too big) to get the principal components\n",
    "\n",
    "from scipy import ndimage\n",
    "sigmaFilt    = 10\n",
    "flagRemoveHF = 1\n",
    "\n",
    "for kk in range(1,NbFile):\n",
    "    \n",
    " \n",
    "    filename = dirDATA+genFilename+\"0%d\"%(kk)+genSuffix+'ROI.pkl'\n",
    "    \n",
    "    if not(os.path.isfile(filename)):\n",
    "        kk = kk + 1\n",
    "        continue\n",
    "    \n",
    "    filehandler = open(filename, 'rb')\n",
    "\n",
    "    \n",
    "    \n",
    "    SelectedField = pickle.load(filehandler)\n",
    "    latBounds = pickle.load(filehandler)\n",
    "    lonBounds = pickle.load(filehandler)\n",
    "    indNoNaN = pickle.load(filehandler)\n",
    "    indlat = pickle.load(filehandler)\n",
    "    indlon = pickle.load(filehandler)\n",
    "\n",
    "    flagRemoveHF = pickle.load(filehandler)\n",
    "    flagRemoveMean = pickle.load(filehandler)\n",
    "    sigmaFilt = pickle.load(filehandler)\n",
    "\n",
    "    sstROI = pickle.load(filehandler)\n",
    "    sshROI = sstROI # In python this is just copying a reference to the object\n",
    "    \n",
    "\n",
    "        \n",
    "    NbSSTDates = sstROI.shape[0]\n",
    "    indRand    = np.random.permutation(NbSSTDates)[0:NbRandDates] # choose a certain number of random indices in the time series\n",
    "\n",
    "    sshROI_small = sshROI[indRand,:,:]\n",
    "    \n",
    "    ## concatenate SST data\n",
    "    if kk == 2:\n",
    "        sstAllROI = sshROI_small.copy()\n",
    "    else:\n",
    "        sstAllROI = np.concatenate((sstAllROI,sshROI_small),axis=0)\n",
    "\n",
    "    print('.... reading file %s - shape = %d %d %d'%(filename,sstAllROI.shape[0],sstAllROI.shape[1],sstAllROI.shape[2]))"
   ]
  },
  {
   "cell_type": "markdown",
   "metadata": {
    "colab_type": "text",
    "id": "v4BsntY8oxEE"
   },
   "source": [
    "2) Comme auparavant, calculer et visualiser la matrice de covariance du jeu de données ainsi créé. En particulier, il est possible de regarder comment un pixel est corrélé aux autres en représentant une ligne ou colonne de la matrice de covariance sous la forme d'une image (attention à la gestion des pixels de terre qui ont pour valeur NaN)."
   ]
  },
  {
   "cell_type": "code",
   "execution_count": 0,
   "metadata": {
    "colab": {},
    "colab_type": "code",
    "id": "fRe_7Qfl5HJu"
   },
   "outputs": [],
   "source": [
    "# visualize correlation matrix \n",
    "\n",
    "\n",
    "# display one row of this matrix as an image\n"
   ]
  },
  {
   "cell_type": "markdown",
   "metadata": {
    "colab_type": "text",
    "id": "1s7ZaghPqirm"
   },
   "source": [
    "3)Calculer l'ACP sur ce jeu de données (attention aux NaN!). Visualiser la variance expliquée par les différentes composantes, et le composantes elles mêmes vues comme des images. Commenter en particulier l'allure des 50 premières et des dernières."
   ]
  },
  {
   "cell_type": "code",
   "execution_count": 0,
   "metadata": {
    "colab": {},
    "colab_type": "code",
    "id": "tW7ciUFw9SYM"
   },
   "outputs": [],
   "source": [
    "# PCA\n",
    "\n",
    "# PCA parameters\n",
    "NbPCA    = 3483 # number of principal components\n",
    "pca      = PCA(NbPCA)\n",
    "\n",
    "#  we perform a PCA in the space domain: observations are different times, and variables are space coordinates \n",
    "\n",
    "\n",
    "\n",
    "# format daily SST maps as vectors (remove NaN) (display three way array as a 2d array)\n",
    "\n",
    "#  remove time series for grid points where the there is no initial value (mainly removes land)\n",
    "\n",
    "\n",
    "\n",
    "# normalize data\n",
    "\n",
    "sshAllROI_vec_no_nan_centered = sshAllROI_vec_no_nan-np.mean(sshAllROI_vec_no_nan,axis = 0)\n",
    "\n",
    "\n",
    "maxi = np.amax(sshAllROI_vec_no_nan)\n",
    "mini = np.amin(sshAllROI_vec_no_nan)\n",
    "\n",
    "sshAllROI_normalized = (sshAllROI_vec_no_nan - mini)/(maxi-mini)\n",
    "\n",
    "\n"
   ]
  },
  {
   "cell_type": "code",
   "execution_count": 0,
   "metadata": {
    "colab": {},
    "colab_type": "code",
    "id": "GUjJcNpj-Fyj"
   },
   "outputs": [],
   "source": [
    "# visualize PCs and associated projection\n"
   ]
  },
  {
   "cell_type": "markdown",
   "metadata": {
    "colab_type": "text",
    "id": "AjNZHoQfrmX-"
   },
   "source": [
    "4) Projeter une série temporelle correspondant à un membre sur la base de l'ACP et visualiser les projections et les composantes principales correspondantes (ainsi que la moyenne des données). Visualiser la trajectoire du système sous la forme d'un scatterplot en utilisant les trois premières composantes."
   ]
  },
  {
   "cell_type": "code",
   "execution_count": 0,
   "metadata": {
    "colab": {},
    "colab_type": "code",
    "id": "ri5wOqvh-U-d"
   },
   "outputs": [],
   "source": [
    "# Apply PCA to a given member\n",
    "\n",
    "file_used = 10 \n",
    "    \n",
    "filename = dirDATA+genFilename+'0'+str(file_used)+genSuffix+'ROI.pkl' # first member\n",
    "    \n",
    "    \n",
    "filehandler = open(filename, 'rb')\n",
    "\n",
    "    \n",
    "    \n",
    "SelectedField = pickle.load(filehandler)\n",
    "latBounds = pickle.load(filehandler)\n",
    "lonBounds = pickle.load(filehandler)\n",
    "indNoNaN = pickle.load(filehandler)\n",
    "indlat = pickle.load(filehandler)\n",
    "indlon = pickle.load(filehandler)\n",
    "\n",
    "flagRemoveHF = pickle.load(filehandler)\n",
    "flagRemoveMean = pickle.load(filehandler)\n",
    "sigmaFilt = pickle.load(filehandler)\n",
    "\n",
    "sstROI = pickle.load(filehandler)\n",
    "sshROI = sstROI # In python this is just copying a reference to the object\n",
    "    \n",
    "sshROI_vec = np.reshape(sshROI,(sshROI.shape[0],sshROI.shape[1]*sshROI.shape[2]))   \n",
    "    \n",
    "sshROI_vec_no_nan  = sshROI_vec[:,indNoNaN[0]]\n",
    "\n",
    "...\n"
   ]
  },
  {
   "cell_type": "markdown",
   "metadata": {
    "colab_type": "text",
    "id": "q0eKOfTmsoS0"
   },
   "source": [
    "6) Faire la même chose pour tous les membres et les comparer"
   ]
  },
  {
   "cell_type": "code",
   "execution_count": 0,
   "metadata": {
    "colab": {
     "base_uri": "https://localhost:8080/",
     "height": 851
    },
    "colab_type": "code",
    "id": "d2TisoYv-oPy",
    "outputId": "5d204975-120e-4ba3-9a6f-afa68e2d32dc"
   },
   "outputs": [
    {
     "name": "stdout",
     "output_type": "stream",
     "text": [
      ".... reading file /content/gdrive/My Drive/data_dsg/GOM025.GSL301_m002_1d_dtrend.ncROI.pkl\n",
      ".... reading file /content/gdrive/My Drive/data_dsg/GOM025.GSL301_m003_1d_dtrend.ncROI.pkl\n",
      ".... reading file /content/gdrive/My Drive/data_dsg/GOM025.GSL301_m004_1d_dtrend.ncROI.pkl\n",
      ".... reading file /content/gdrive/My Drive/data_dsg/GOM025.GSL301_m005_1d_dtrend.ncROI.pkl\n",
      ".... reading file /content/gdrive/My Drive/data_dsg/GOM025.GSL301_m006_1d_dtrend.ncROI.pkl\n",
      ".... reading file /content/gdrive/My Drive/data_dsg/GOM025.GSL301_m007_1d_dtrend.ncROI.pkl\n",
      ".... reading file /content/gdrive/My Drive/data_dsg/GOM025.GSL301_m008_1d_dtrend.ncROI.pkl\n",
      ".... reading file /content/gdrive/My Drive/data_dsg/GOM025.GSL301_m009_1d_dtrend.ncROI.pkl\n",
      ".... reading file /content/gdrive/My Drive/data_dsg/GOM025.GSL301_m0010_1d_dtrend.ncROI.pkl\n",
      ".... reading file /content/gdrive/My Drive/data_dsg/GOM025.GSL301_m0011_1d_dtrend.ncROI.pkl\n",
      ".... reading file /content/gdrive/My Drive/data_dsg/GOM025.GSL301_m0012_1d_dtrend.ncROI.pkl\n",
      ".... reading file /content/gdrive/My Drive/data_dsg/GOM025.GSL301_m0013_1d_dtrend.ncROI.pkl\n",
      ".... reading file /content/gdrive/My Drive/data_dsg/GOM025.GSL301_m0014_1d_dtrend.ncROI.pkl\n",
      ".... reading file /content/gdrive/My Drive/data_dsg/GOM025.GSL301_m0015_1d_dtrend.ncROI.pkl\n",
      ".... reading file /content/gdrive/My Drive/data_dsg/GOM025.GSL301_m0016_1d_dtrend.ncROI.pkl\n",
      ".... reading file /content/gdrive/My Drive/data_dsg/GOM025.GSL301_m0017_1d_dtrend.ncROI.pkl\n",
      ".... reading file /content/gdrive/My Drive/data_dsg/GOM025.GSL301_m0018_1d_dtrend.ncROI.pkl\n",
      ".... reading file /content/gdrive/My Drive/data_dsg/GOM025.GSL301_m0019_1d_dtrend.ncROI.pkl\n",
      ".... reading file /content/gdrive/My Drive/data_dsg/GOM025.GSL301_m0020_1d_dtrend.ncROI.pkl\n",
      ".... reading file /content/gdrive/My Drive/data_dsg/GOM025.GSL301_m0021_1d_dtrend.ncROI.pkl\n",
      ".... reading file /content/gdrive/My Drive/data_dsg/GOM025.GSL301_m0022_1d_dtrend.ncROI.pkl\n",
      ".... reading file /content/gdrive/My Drive/data_dsg/GOM025.GSL301_m0023_1d_dtrend.ncROI.pkl\n",
      ".... reading file /content/gdrive/My Drive/data_dsg/GOM025.GSL301_m0024_1d_dtrend.ncROI.pkl\n",
      ".... reading file /content/gdrive/My Drive/data_dsg/GOM025.GSL301_m0025_1d_dtrend.ncROI.pkl\n",
      ".... reading file /content/gdrive/My Drive/data_dsg/GOM025.GSL301_m0026_1d_dtrend.ncROI.pkl\n",
      ".... reading file /content/gdrive/My Drive/data_dsg/GOM025.GSL301_m0027_1d_dtrend.ncROI.pkl\n",
      ".... reading file /content/gdrive/My Drive/data_dsg/GOM025.GSL301_m0028_1d_dtrend.ncROI.pkl\n",
      ".... reading file /content/gdrive/My Drive/data_dsg/GOM025.GSL301_m0029_1d_dtrend.ncROI.pkl\n",
      ".... reading file /content/gdrive/My Drive/data_dsg/GOM025.GSL301_m0030_1d_dtrend.ncROI.pkl\n",
      ".... reading file /content/gdrive/My Drive/data_dsg/GOM025.GSL301_m0031_1d_dtrend.ncROI.pkl\n",
      ".... reading file /content/gdrive/My Drive/data_dsg/GOM025.GSL301_m0032_1d_dtrend.ncROI.pkl\n",
      ".... reading file /content/gdrive/My Drive/data_dsg/GOM025.GSL301_m0033_1d_dtrend.ncROI.pkl\n",
      ".... reading file /content/gdrive/My Drive/data_dsg/GOM025.GSL301_m0034_1d_dtrend.ncROI.pkl\n",
      ".... reading file /content/gdrive/My Drive/data_dsg/GOM025.GSL301_m0035_1d_dtrend.ncROI.pkl\n",
      ".... reading file /content/gdrive/My Drive/data_dsg/GOM025.GSL301_m0036_1d_dtrend.ncROI.pkl\n",
      ".... reading file /content/gdrive/My Drive/data_dsg/GOM025.GSL301_m0037_1d_dtrend.ncROI.pkl\n",
      ".... reading file /content/gdrive/My Drive/data_dsg/GOM025.GSL301_m0038_1d_dtrend.ncROI.pkl\n",
      ".... reading file /content/gdrive/My Drive/data_dsg/GOM025.GSL301_m0039_1d_dtrend.ncROI.pkl\n",
      ".... reading file /content/gdrive/My Drive/data_dsg/GOM025.GSL301_m0040_1d_dtrend.ncROI.pkl\n",
      ".... reading file /content/gdrive/My Drive/data_dsg/GOM025.GSL301_m0041_1d_dtrend.ncROI.pkl\n",
      ".... reading file /content/gdrive/My Drive/data_dsg/GOM025.GSL301_m0042_1d_dtrend.ncROI.pkl\n",
      ".... reading file /content/gdrive/My Drive/data_dsg/GOM025.GSL301_m0043_1d_dtrend.ncROI.pkl\n",
      ".... reading file /content/gdrive/My Drive/data_dsg/GOM025.GSL301_m0044_1d_dtrend.ncROI.pkl\n",
      ".... reading file /content/gdrive/My Drive/data_dsg/GOM025.GSL301_m0045_1d_dtrend.ncROI.pkl\n",
      ".... reading file /content/gdrive/My Drive/data_dsg/GOM025.GSL301_m0046_1d_dtrend.ncROI.pkl\n",
      ".... reading file /content/gdrive/My Drive/data_dsg/GOM025.GSL301_m0047_1d_dtrend.ncROI.pkl\n",
      ".... reading file /content/gdrive/My Drive/data_dsg/GOM025.GSL301_m0048_1d_dtrend.ncROI.pkl\n",
      ".... reading file /content/gdrive/My Drive/data_dsg/GOM025.GSL301_m0049_1d_dtrend.ncROI.pkl\n"
     ]
    }
   ],
   "source": [
    "## apply PCA to all members\n",
    "\n",
    "count = 0\n",
    "\n",
    "for kk in range(2,NbFile):   \n",
    "    if kk < 10:\n",
    "        filename = dirDATA+genFilename+\"0%d\"%(kk)+genSuffix+'ROI.pkl'\n",
    "    else:\n",
    "        filename = dirDATA+genFilename+\"0%d\"%(kk)+genSuffix+'ROI.pkl'\n",
    "    \n",
    "    print('.... reading file %s'%(filename)) \n",
    "    \n",
    "    if not(os.path.isfile(filename)):\n",
    "        kk = kk + 1\n",
    "        continue\n",
    "        \n",
    "    filehandler = open(filename, 'rb')\n",
    "\n",
    "    \n",
    "    \n",
    "    SelectedField = pickle.load(filehandler)\n",
    "    latBounds = pickle.load(filehandler)\n",
    "    lonBounds = pickle.load(filehandler)\n",
    "    indNoNaN = pickle.load(filehandler)\n",
    "    indlat = pickle.load(filehandler)\n",
    "    indlon = pickle.load(filehandler)\n",
    "\n",
    "    flagRemoveHF = pickle.load(filehandler)\n",
    "    flagRemoveMean = pickle.load(filehandler)\n",
    "    sigmaFilt = pickle.load(filehandler)\n",
    "\n",
    "    sstROI = pickle.load(filehandler)\n",
    "    sshROI = sstROI # In python this is just copying a reference to the object\n",
    "    \n",
    "    sshROI_vec = np.reshape(sshROI,(sshROI.shape[0],sshROI.shape[1]*sshROI.shape[2]))   \n",
    "    \n",
    "    sshROI_vec_no_nan  = sshROI_vec[:,indNoNaN[0]]\n",
    "\n",
    "        # fit PCA\n",
    "    if kk == 2:\n",
    "        PC_coef = np.zeros((47,sshROI.shape[0],NbPCA))\n",
    "        \n",
    "    PC_coef[count,:,:] = pca.transform(sshROI_vec_no_nan)\n",
    "    count = count +1\n"
   ]
  },
  {
   "cell_type": "code",
   "execution_count": 0,
   "metadata": {
    "colab": {},
    "colab_type": "code",
    "id": "sh0foxzA-tu_"
   },
   "outputs": [],
   "source": [
    "# visualize PCA coeffs \n",
    "\n"
   ]
  },
  {
   "cell_type": "markdown",
   "metadata": {
    "colab_type": "text",
    "id": "gkZG6p5usyfc"
   },
   "source": [
    "6) Visualiser les trajectoires en 3D en prenant comme vecteurs de base des pixels choisis au hasard. Conclure."
   ]
  },
  {
   "cell_type": "code",
   "execution_count": 0,
   "metadata": {
    "colab": {},
    "colab_type": "code",
    "id": "DoIaRNPV-yXo"
   },
   "outputs": [],
   "source": [
    "# visualize PCA coeffs \n",
    "from mpl_toolkits.mplot3d import Axes3D\n",
    "\n",
    "\n"
   ]
  }
 ],
 "metadata": {
  "colab": {
   "collapsed_sections": [],
   "name": "PCA_lab_session_student.ipynb",
   "provenance": []
  },
  "kernelspec": {
   "display_name": "Python 3",
   "language": "python",
   "name": "python3"
  },
  "language_info": {
   "codemirror_mode": {
    "name": "ipython",
    "version": 3
   },
   "file_extension": ".py",
   "mimetype": "text/x-python",
   "name": "python",
   "nbconvert_exporter": "python",
   "pygments_lexer": "ipython3",
   "version": "3.6.8"
  },
  "latex_envs": {
   "LaTeX_envs_menu_present": true,
   "autoclose": false,
   "autocomplete": true,
   "bibliofile": "biblio.bib",
   "cite_by": "apalike",
   "current_citInitial": 1,
   "eqLabelWithNumbers": true,
   "eqNumInitial": 1,
   "hotkeys": {
    "equation": "Ctrl-E",
    "itemize": "Ctrl-I"
   },
   "labels_anchors": false,
   "latex_user_defs": false,
   "report_style_numbering": false,
   "user_envs_cfg": false
  }
 },
 "nbformat": 4,
 "nbformat_minor": 1
}
