{
 "cells": [
  {
   "cell_type": "markdown",
   "metadata": {},
   "source": [
    "# Introduction to Scipy\n",
    "Data analysis needs effective computational ressources to read/write and process data. Usually, the data set to be processed is a set of arrays. [Scipy](https://www.scipy.org/) (*Scientific Python*) package is a dedicated tool to operate on array efficiently. From the *FAQ*, Scipy is \"*set of open source (BSD licensed) scientific and numerical tools for Python. It currently supports special functions, integration, ordinary differential equation (ODE) solvers, gradient optimization, parallel programming tools, an expression-to-C++ compiler for fast execution, and others. A good rule of thumb is that if it’s covered in a general textbook on numerical computing (for example, the well-known Numerical Recipes series), it’s probably implemented in scipy*\". This is the core of any data analysis package in Python.\n",
    "\n",
    "The main structure provides by Scipy is the *Fixed-Type Arrays*: **ndarray**. It is an efficient way of storing data and processing them."
   ]
  },
  {
   "cell_type": "code",
   "execution_count": 2,
   "metadata": {
    "collapsed": false
   },
   "outputs": [
    {
     "name": "stdout",
     "output_type": "stream",
     "text": [
      "A = [0 1 2 3 4 5 6 7 8 9]\n",
      "B = [0 1 2 3 4 5 6 7 8 9]\n"
     ]
    }
   ],
   "source": [
    "import scipy as sp\n",
    "A = sp.array(range(10)) # Create array from a list\n",
    "print(\"A = {}\".format(A))\n",
    "B = sp.arange(10) # Create array from scratch\n",
    "print(\"B = {}\".format(B))\n",
    "sp.array?"
   ]
  },
  {
   "cell_type": "markdown",
   "metadata": {},
   "source": [
    "There are plenty of functions to create and to initialize specific array (sp.zeros, sp.ones, sp.empty ...). For each case, it is possible to define the type (int8, uint8, float64 ...) by providing the corresponding parameter. More information regarding the different array types can be found here: https://docs.scipy.org/doc/numpy-1.13.0/user/basics.types.html and https://docs.scipy.org/doc/numpy-1.13.0/reference/arrays.dtypes.html.\n",
    "\n",
    "## Basics of Arrays \n",
    "### Getting attributes"
   ]
  },
  {
   "cell_type": "code",
   "execution_count": 3,
   "metadata": {
    "collapsed": false
   },
   "outputs": [
    {
     "name": "stdout",
     "output_type": "stream",
     "text": [
      "Number of elements in A: 10\n",
      "Number of dimension of A: 1\n",
      "Dimension of A: (10,)\n",
      "Type of element in A: int64\n"
     ]
    }
   ],
   "source": [
    "# Attributes\n",
    "print(\"Number of elements in A: {}\".format(A.size))\n",
    "print(\"Number of dimension of A: {}\".format(A.ndim))\n",
    "print(\"Dimension of A: {}\".format(A.shape))\n",
    "print(\"Type of element in A: {}\".format(A.dtype))"
   ]
  },
  {
   "cell_type": "markdown",
   "metadata": {},
   "source": [
    "It is possible to modify explicitely some attributes, in particlar the *shape*:"
   ]
  },
  {
   "cell_type": "code",
   "execution_count": 3,
   "metadata": {
    "collapsed": false
   },
   "outputs": [
    {
     "name": "stdout",
     "output_type": "stream",
     "text": [
      "B = [[0 1 2 3 4]\n",
      " [5 6 7 8 9]]\n",
      "(2, 5)\n",
      "(10,)\n"
     ]
    }
   ],
   "source": [
    "B.shape = (2,5) # Change the shape to two lines, 5 columns -> the number of total elements should be the same\n",
    "print(\"B = {}\".format(B))\n",
    "C = B.reshape(10) # The function return a new array with the corresponding shape\n",
    "print(B.shape)\n",
    "print(C.shape)"
   ]
  },
  {
   "cell_type": "markdown",
   "metadata": {},
   "source": [
    "### Accessing elements"
   ]
  },
  {
   "cell_type": "code",
   "execution_count": 4,
   "metadata": {
    "collapsed": false
   },
   "outputs": [
    {
     "name": "stdout",
     "output_type": "stream",
     "text": [
      "A = [0 1 2 3 4 5 6 7 8 9]\n",
      "0\n",
      "1\n",
      "9\n",
      "8\n"
     ]
    }
   ],
   "source": [
    "print(\"A = {}\".format(A))\n",
    "print(A[0]) # First element\n",
    "print(A[1]) # Second element\n",
    "print(A[-1]) # Last element\n",
    "print(A[-2]) # Antepenultimate element"
   ]
  },
  {
   "cell_type": "code",
   "execution_count": 5,
   "metadata": {
    "collapsed": false
   },
   "outputs": [
    {
     "name": "stdout",
     "output_type": "stream",
     "text": [
      "[0 1 2]\n",
      "[0 2 4 6 8]\n",
      "[7 8]\n"
     ]
    }
   ],
   "source": [
    "# Some slicing\n",
    "print(A[0:3]) # Return an array of elements of A from the first to the third\n",
    "print(A[::2]) # All elements with a step of 2\n",
    "print(A[-3:-1]) # Can use reverse order"
   ]
  },
  {
   "cell_type": "markdown",
   "metadata": {},
   "source": [
    "## Computation on Array\n",
    "### Universal functions\n",
    "A general comment for interpreted laguage: **do not use loop if you can** ! It is slow and inefficient.\n",
    "\n",
    "The comment apply here with Python. Scipy provide a large types of operation that are optimized to work on array directly (as in Matlab, R ...). In particular, *universal functions* (ufuncs) are a set of functions for fast element-wise operations (+, -, power ...). Let see a short example:"
   ]
  },
  {
   "cell_type": "code",
   "execution_count": 4,
   "metadata": {
    "collapsed": false
   },
   "outputs": [
    {
     "name": "stdout",
     "output_type": "stream",
     "text": [
      "10 loops, best of 3: 35.8 ms per loop\n",
      "The slowest run took 4.96 times longer than the fastest. This could mean that an intermediate result is being cached.\n",
      "10000 loops, best of 3: 50.8 µs per loop\n"
     ]
    }
   ],
   "source": [
    "def my_add(M,N): # Suppose that A and B have the same shape\n",
    "    P = sp.empty_like(M)\n",
    "    nl, nr = M.shape\n",
    "    for i in range(nl):\n",
    "        for j in range(nr):\n",
    "            P[i,j] = M[i,j] + N[i,j]\n",
    "    return P\n",
    "\n",
    "M, N = sp.arange(100000).reshape(1000,100), sp.arange(100000).reshape(1000,100)\n",
    "%timeit my_add(M,N) # using loop\n",
    "%timeit M + N # using ufuncs equivalent to sp.add(A,B)"
   ]
  },
  {
   "cell_type": "markdown",
   "metadata": {},
   "source": [
    "Most all conventional functions exist: arithmetic, trigonometric, log/exp ... A detailed list is available here: https://docs.scipy.org/doc/numpy-1.13.0/reference/ufuncs.html"
   ]
  },
  {
   "cell_type": "markdown",
   "metadata": {},
   "source": [
    "### Reduction\n",
    "Scipy provides a set of functions to extrac values from the array itself and for some specific dimension of the array"
   ]
  },
  {
   "cell_type": "code",
   "execution_count": 7,
   "metadata": {
    "collapsed": false
   },
   "outputs": [
    {
     "name": "stdout",
     "output_type": "stream",
     "text": [
      "A = \n",
      "[[ 0.82995255  0.33756315  0.50730096  0.8505329 ]\n",
      " [ 0.23808478  0.3261701   0.79225417  0.92755043]\n",
      " [ 0.23140672  0.36314079  0.83403677  0.34594983]\n",
      " [ 0.20428516  0.12861753  0.6228      0.74528301]\n",
      " [ 0.0292502   0.02041209  0.24991261  0.10990377]]\n",
      "8.69440751524\n",
      "[ 1.53297941  1.17590366  3.0063045   2.97921994]\n",
      "[ 2.52534957  2.28405948  1.77453411  1.70098569  0.40947866]\n"
     ]
    }
   ],
   "source": [
    "A = sp.random.rand(5,4)\n",
    "print(\"A = \\n{}\".format(A))\n",
    "print(A.sum()) # Sum over all element\n",
    "print(A.sum(axis=0)) # Sum over the lines: return an array of values\n",
    "print(A.sum(axis=1)) # over the columns"
   ]
  },
  {
   "cell_type": "markdown",
   "metadata": {},
   "source": [
    "Using the same convention, it is possible to get the cummulative sum (cumsum), product of element (prod, cumprod), the maximum/miniumu value (max, min) and their position (argmax, argmin) and the first and second statistical moment (mean, var/std). It is also possible to check if a condition is fullfilled for all or any elements of the array."
   ]
  },
  {
   "cell_type": "code",
   "execution_count": 8,
   "metadata": {
    "collapsed": false
   },
   "outputs": [
    {
     "data": {
      "text/plain": [
       "True"
      ]
     },
     "execution_count": 8,
     "metadata": {},
     "output_type": "execute_result"
    }
   ],
   "source": [
    "sp.any(A>0)"
   ]
  },
  {
   "cell_type": "code",
   "execution_count": 9,
   "metadata": {
    "collapsed": false
   },
   "outputs": [
    {
     "data": {
      "text/plain": [
       "False"
      ]
     },
     "execution_count": 9,
     "metadata": {},
     "output_type": "execute_result"
    }
   ],
   "source": [
    "sp.all(A>0.5)"
   ]
  },
  {
   "cell_type": "markdown",
   "metadata": {},
   "source": [
    "### Some exercices\n",
    "- Find the maximum and minimum value of A\n",
    "- Find the maximum of each line\n",
    "- Find the mean value of each row\n",
    "- Find the position of the minimum value of each row"
   ]
  },
  {
   "cell_type": "code",
   "execution_count": 12,
   "metadata": {
    "collapsed": false
   },
   "outputs": [
    {
     "name": "stdout",
     "output_type": "stream",
     "text": [
      "0.92755042918\n",
      "0.0204120857763\n",
      "[ 0.82995255  0.36314079  0.83403677  0.92755043]\n",
      "[ 0.63133739  0.57101487  0.44363353  0.42524642  0.10236967]\n",
      "[1 0 0 1 1]\n"
     ]
    }
   ],
   "source": []
  },
  {
   "cell_type": "markdown",
   "metadata": {},
   "source": [
    "### Broadcasting\n",
    "Broadcasting allow to define efficient operations between arrays of different sizes, given some of them are compatible. An extreme example is adding a scalar to a matrix"
   ]
  },
  {
   "cell_type": "code",
   "execution_count": 13,
   "metadata": {
    "collapsed": false
   },
   "outputs": [
    {
     "data": {
      "text/plain": [
       "array([[ 3.82995255,  3.33756315,  3.50730096,  3.8505329 ],\n",
       "       [ 3.23808478,  3.3261701 ,  3.79225417,  3.92755043],\n",
       "       [ 3.23140672,  3.36314079,  3.83403677,  3.34594983],\n",
       "       [ 3.20428516,  3.12861753,  3.6228    ,  3.74528301],\n",
       "       [ 3.0292502 ,  3.02041209,  3.24991261,  3.10990377]])"
      ]
     },
     "execution_count": 13,
     "metadata": {},
     "output_type": "execute_result"
    }
   ],
   "source": [
    "A+3"
   ]
  },
  {
   "cell_type": "markdown",
   "metadata": {},
   "source": [
    "Easy ? Now if I need to center the data, it is also super easy"
   ]
  },
  {
   "cell_type": "code",
   "execution_count": 14,
   "metadata": {
    "collapsed": false
   },
   "outputs": [
    {
     "data": {
      "text/plain": [
       "array([[ 0.52335667,  0.10238242, -0.09395994,  0.25468891],\n",
       "       [-0.0685111 ,  0.09098937,  0.19099326,  0.33170644],\n",
       "       [-0.07518916,  0.12796006,  0.23277587, -0.24989416],\n",
       "       [-0.10231072, -0.10656321,  0.0215391 ,  0.14943902],\n",
       "       [-0.27734568, -0.21476865, -0.3513483 , -0.48594021]])"
      ]
     },
     "execution_count": 14,
     "metadata": {},
     "output_type": "execute_result"
    }
   ],
   "source": [
    "A - A.mean(axis=0) # Suppose that each line is a sample, and each column a measurement (i.e., a variable)"
   ]
  },
  {
   "cell_type": "markdown",
   "metadata": {},
   "source": [
    "If we need to standardize the data (substract the mean and divide by the standard deviation), it can be achieved easily:"
   ]
  },
  {
   "cell_type": "code",
   "execution_count": 15,
   "metadata": {
    "collapsed": false
   },
   "outputs": [
    {
     "name": "stdout",
     "output_type": "stream",
     "text": [
      "[[ 1.91965419  0.75225783 -0.44451366  0.8087909 ]\n",
      " [-0.25129635  0.66854703  0.90356716  1.05336801]\n",
      " [-0.27579125  0.94019025  1.10123586 -0.79356467]\n",
      " [-0.37527219 -0.78297624  0.101899    0.47455901]\n",
      " [-1.01729439 -1.57801886 -1.66218836 -1.54315326]]\n"
     ]
    }
   ],
   "source": [
    "As = (A-A.mean(axis=0))/A.std(axis=0)\n",
    "print(As)"
   ]
  },
  {
   "cell_type": "markdown",
   "metadata": {},
   "source": [
    "More details about broadcasting can be found here: https://docs.scipy.org/doc/numpy-1.13.0/user/basics.broadcasting.html"
   ]
  },
  {
   "cell_type": "markdown",
   "metadata": {},
   "source": [
    "## Ploting in Python\n",
    "The package [Matplotlib](https://matplotlib.org/) offers several functions to plot data. Below an example using 2D data, more complicated plots can be constructed when needed."
   ]
  },
  {
   "cell_type": "code",
   "execution_count": 16,
   "metadata": {
    "collapsed": false
   },
   "outputs": [
    {
     "data": {
      "image/png": "[encoded data removed]",
      "text/plain": [
       "<matplotlib.figure.Figure at 0x7f557394b320>"
      ]
     },
     "metadata": {},
     "output_type": "display_data"
    }
   ],
   "source": [
    "%matplotlib inline\n",
    "import matplotlib.pyplot as plt\n",
    "x = sp.arange(0,10,0.01)\n",
    "y = x**2\n",
    "plt.plot(x,y)\n",
    "plt.grid()\n",
    "plt.show()"
   ]
  },
  {
   "cell_type": "code",
   "execution_count": null,
   "metadata": {
    "collapsed": true
   },
   "outputs": [],
   "source": []
  }
 ],
 "metadata": {
  "kernelspec": {
   "display_name": "Python 3",
   "language": "python",
   "name": "python3"
  },
  "language_info": {
   "codemirror_mode": {
    "name": "ipython",
    "version": 3
   },
   "file_extension": ".py",
   "mimetype": "text/x-python",
   "name": "python",
   "nbconvert_exporter": "python",
   "pygments_lexer": "ipython3",
   "version": "3.5.3"
  }
 },
 "nbformat": 4,
 "nbformat_minor": 2
}
