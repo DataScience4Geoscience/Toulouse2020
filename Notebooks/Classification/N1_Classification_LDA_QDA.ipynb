{
 "cells": [
  {
   "cell_type": "markdown",
   "metadata": {},
   "source": [
    "# Classification \n",
    "In this notebook, the classification with LDA and QDA is illustrated on the Digits data set."
   ]
  },
  {
   "cell_type": "code",
   "execution_count": 1,
   "metadata": {
    "collapsed": false
   },
   "outputs": [
    {
     "name": "stdout",
     "output_type": "stream",
     "text": [
      "(1797, 64)\n",
      "16.0\n"
     ]
    }
   ],
   "source": [
    "from sklearn.datasets import load_digits\n",
    "# Load digits\n",
    "X, y = load_digits(return_X_y=True)\n",
    "print(X.shape)\n",
    "print(X.max())"
   ]
  },
  {
   "cell_type": "markdown",
   "metadata": {},
   "source": [
    "The data set is made available by NIST to extract normalized bitmaps of handwritten digits from a preprinted form. From a total of 43 people, 30 contributed to the training set and different 13 to the test set. 32x32 bitmaps are divided into nonoverlapping blocks of 4x4 and the number of on pixels are counted in each block. This generates an input matrix of 8x8 where each element is an integer in the range 0..16 (https://archive.ics.uci.edu/ml/datasets/Optical+Recognition+of+Handwritten+Digits)\n",
    "\n",
    "We can visualize the data by reshaping correctly each sample:"
   ]
  },
  {
   "cell_type": "code",
   "execution_count": 2,
   "metadata": {
    "collapsed": false
   },
   "outputs": [
    {
     "data": {
      "text/plain": [
       "<matplotlib.text.Text at 0x7f6863f89860>"
      ]
     },
     "execution_count": 2,
     "metadata": {},
     "output_type": "execute_result"
    },
    {
     "data": {
      "image/png": "[encoded data removed]",
      "text/plain": [
       "<matplotlib.figure.Figure at 0x7f68662a9d68>"
      ]
     },
     "metadata": {},
     "output_type": "display_data"
    },
    {
     "data": {
      "image/png": "[encoded data removed]",
      "text/plain": [
       "<matplotlib.figure.Figure at 0x7f689bdd2a90>"
      ]
     },
     "metadata": {},
     "output_type": "display_data"
    }
   ],
   "source": [
    "%matplotlib inline\n",
    "import matplotlib.pyplot as plt\n",
    "\n",
    "# Plot the first element\n",
    "plt.figure()\n",
    "plt.imshow(X[0,:].reshape(8,8),cmap=\"gray\")\n",
    "plt.title(\"Label = {}\".format(y[0]))\n",
    "\n",
    "# Plot the hundredth element\n",
    "plt.figure()\n",
    "plt.imshow(X[100,:].reshape(8,8),cmap=\"gray\")\n",
    "plt.title(\"Label = {}\".format(y[100]))"
   ]
  },
  {
   "cell_type": "markdown",
   "metadata": {},
   "source": [
    "To perform the classification and the validation of the model, we should split our data sets into two disjoint parts. The classification accuracy is assessed using the global accuracy."
   ]
  },
  {
   "cell_type": "code",
   "execution_count": 15,
   "metadata": {
    "collapsed": false
   },
   "outputs": [
    {
     "name": "stdout",
     "output_type": "stream",
     "text": [
      "[0.94674085850556444, 0.77583465818759934]\n"
     ]
    },
    {
     "name": "stderr",
     "output_type": "stream",
     "text": [
      "/usr/lib/python3/dist-packages/sklearn/discriminant_analysis.py:389: UserWarning: Variables are collinear.\n",
      "  warnings.warn(\"Variables are collinear.\")\n",
      "/usr/lib/python3/dist-packages/sklearn/discriminant_analysis.py:694: UserWarning: Variables are collinear\n",
      "  warnings.warn(\"Variables are collinear\")\n"
     ]
    }
   ],
   "source": [
    "from sklearn.discriminant_analysis import LinearDiscriminantAnalysis as LDA,\\\n",
    "                                        QuadraticDiscriminantAnalysis as QDA\n",
    "from sklearn.model_selection import train_test_split\n",
    "from sklearn.metrics import accuracy_score as OA\n",
    "\n",
    "# Split the data -> train_size=0.20 means we keep 20% of the data for training and 80% fir validation\n",
    "# The stratification ensures that the proportion of each class from the orginal data is preserved in the train and test set\n",
    "X_train, X_test, y_train, y_test = train_test_split(X, y, train_size=0.3, random_state=0, stratify=y)\n",
    "\n",
    "MODELS = [LDA(), QDA()]\n",
    "oa = []\n",
    "for model in MODELS:\n",
    "    model.fit(X_train, y_train)\n",
    "    y_pred = model.predict(X_test)\n",
    "    oa.append(OA(y_test, y_pred))\n",
    "print(oa)"
   ]
  },
  {
   "cell_type": "markdown",
   "metadata": {},
   "source": [
    "# Setting up hyperparameters\n",
    "Both LDA and QDA have hyperparameters, which are related to the estimation of the covariance matrices. They usually have significant influences on the final classification results. \n",
    "\n",
    "For instance, QDA implemented in Sklearn has a regulation parameter that control the condition number of the class covariance matrix: (1-reg_param)$\\times$ Sigma + reg_param$\\times$ np.eye(n_features). The following code shows the influence of this hyperparameter on the overall accuracy."
   ]
  },
  {
   "cell_type": "code",
   "execution_count": 8,
   "metadata": {
    "collapsed": false
   },
   "outputs": [
    {
     "name": "stdout",
     "output_type": "stream",
     "text": [
      "[ 0.          0.02040816  0.04081633  0.06122449  0.08163265  0.10204082\n",
      "  0.12244898  0.14285714  0.16326531  0.18367347  0.20408163  0.2244898\n",
      "  0.24489796  0.26530612  0.28571429  0.30612245  0.32653061  0.34693878\n",
      "  0.36734694  0.3877551   0.40816327  0.42857143  0.44897959  0.46938776\n",
      "  0.48979592  0.51020408  0.53061224  0.55102041  0.57142857  0.59183673\n",
      "  0.6122449   0.63265306  0.65306122  0.67346939  0.69387755  0.71428571\n",
      "  0.73469388  0.75510204  0.7755102   0.79591837  0.81632653  0.83673469\n",
      "  0.85714286  0.87755102  0.89795918  0.91836735  0.93877551  0.95918367\n",
      "  0.97959184  1.        ]\n"
     ]
    }
   ],
   "source": [
    "import scipy as sp\n",
    "reg_param = sp.linspace(0,1)\n",
    "print(reg_param)"
   ]
  },
  {
   "cell_type": "code",
   "execution_count": 11,
   "metadata": {
    "collapsed": false
   },
   "outputs": [
    {
     "name": "stderr",
     "output_type": "stream",
     "text": [
      "/usr/lib/python3/dist-packages/sklearn/discriminant_analysis.py:694: UserWarning: Variables are collinear\n",
      "  warnings.warn(\"Variables are collinear\")\n"
     ]
    },
    {
     "data": {
      "image/png": "[encoded data removed]",
      "text/plain": [
       "<matplotlib.figure.Figure at 0x7f6859498208>"
      ]
     },
     "metadata": {},
     "output_type": "display_data"
    }
   ],
   "source": [
    "oa = []\n",
    "for reg_param_ in reg_param:\n",
    "    model = QDA(reg_param=reg_param_)\n",
    "    model.fit(X_train, y_train)\n",
    "    y_pred = model.predict(X_test)\n",
    "    oa.append(OA(y_test, y_pred))\n",
    "plt.plot(reg_param, oa)\n",
    "plt.grid()"
   ]
  },
  {
   "cell_type": "code",
   "execution_count": 13,
   "metadata": {
    "collapsed": false
   },
   "outputs": [
    {
     "name": "stdout",
     "output_type": "stream",
     "text": [
      "Best hyperparameters value: 0.7959183673469387\n",
      "Best hyperparameters value: 0.9848966613672496\n"
     ]
    }
   ],
   "source": [
    "print(\"Best hyperparameters value: {}\".format(reg_param[sp.argmax(oa)]))\n",
    "print(\"Best hyperparameters value: {}\".format(oa[sp.argmax(oa)]))\n"
   ]
  },
  {
   "cell_type": "code",
   "execution_count": null,
   "metadata": {
    "collapsed": true
   },
   "outputs": [],
   "source": []
  }
 ],
 "metadata": {
  "kernelspec": {
   "display_name": "Python 3",
   "language": "python",
   "name": "python3"
  },
  "language_info": {
   "codemirror_mode": {
    "name": "ipython",
    "version": 3
   },
   "file_extension": ".py",
   "mimetype": "text/x-python",
   "name": "python",
   "nbconvert_exporter": "python",
   "pygments_lexer": "ipython3",
   "version": "3.5.3"
  }
 },
 "nbformat": 4,
 "nbformat_minor": 2
}
