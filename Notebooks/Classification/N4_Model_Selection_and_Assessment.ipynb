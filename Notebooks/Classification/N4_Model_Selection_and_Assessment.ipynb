{
 "cells": [
  {
   "cell_type": "markdown",
   "metadata": {},
   "source": [
    "# Classification framework\n",
    "\n",
    "Two steps are required\n",
    "- Model selection, i.e. find the optimal hyperparemeters,\n",
    "- Model assessement, i.e. validate the model on unseen data.\n",
    "\n",
    "Scikit-learn offers convenient and generic functions to achieve these steps. In what follow, an example is given for SVM. But it can be extended for any algorithm in scikit-learn, up to a correct definition of the hyperparameters. In this labworks, we use the support vector classifier (SVC) (http://scikit-learn.org/stable/modules/generated/sklearn.svm.SVC.html) on the digit data."
   ]
  },
  {
   "cell_type": "code",
   "execution_count": 1,
   "metadata": {
    "collapsed": false
   },
   "outputs": [
    {
     "name": "stdout",
     "output_type": "stream",
     "text": [
      "Number of samples: 1797\n"
     ]
    }
   ],
   "source": [
    "%matplotlib inline\n",
    "import matplotlib.pyplot as plt\n",
    "from sklearn.datasets import load_digits as load\n",
    "import scipy as sp\n",
    "from sklearn.svm import SVC\n",
    "from sklearn.model_selection import StratifiedKFold, GridSearchCV, train_test_split\n",
    "from sklearn.preprocessing import MinMaxScaler\n",
    "from sklearn.metrics import accuracy_score\n",
    "\n",
    "# Load\n",
    "X, y = load(return_X_y=True)\n",
    "print(\"Number of samples: {}\".format(X.shape[0]))"
   ]
  },
  {
   "cell_type": "code",
   "execution_count": 2,
   "metadata": {
    "collapsed": false
   },
   "outputs": [],
   "source": [
    "from sklearn.datasets import make_classification\n",
    "X,y = make_classification(n_samples=1000, n_features=50, n_informative=40, n_redundant=10,\n",
    "                          n_classes=10, n_clusters_per_class=1)"
   ]
  },
  {
   "cell_type": "markdown",
   "metadata": {},
   "source": [
    "With kernel methods (and more generaly for any distance based methods), it is a good practice to standardize feature remove dynamics effect. Here we rescale each feature between 0 and 1. This step can be done inside or outside the cross validation loop, since it is does not depende on the label, it does not matter."
   ]
  },
  {
   "cell_type": "code",
   "execution_count": 3,
   "metadata": {
    "collapsed": true
   },
   "outputs": [],
   "source": [
    "# Standardize data\n",
    "sc = MinMaxScaler()\n",
    "X = sc.fit_transform(X) # Scale data between 0 and 1\n",
    "X_train, X_test, y_train, y_test = train_test_split(X, y, train_size=0.75, random_state=0, stratify=y)"
   ]
  },
  {
   "cell_type": "markdown",
   "metadata": {},
   "source": [
    "In this notebooks, three kernels will be investigated:\n",
    "- A linear kernel, in that case, there is only one hyperparameter to tune (regularization).\n",
    "- A polynomial kernel, in that case, there are two parameters to tune (regularization + order)\n",
    "- A Gaussian kernel, in that case, tere are two parameters to tune (regularization + scale)"
   ]
  },
  {
   "cell_type": "code",
   "execution_count": 4,
   "metadata": {
    "collapsed": false
   },
   "outputs": [],
   "source": [
    "degree = sp.arange(0,4) # Degree of the polynomial kernel\n",
    "C = 10.0**sp.arange(-1,3) # Penality of the optimization problem\n",
    "gamma = 2.0**sp.arange(-4,4) # Scale of the RBF kernel\n",
    "params = [dict(kernel=['linear'], C=C),\n",
    "          dict(kernel=['poly'],degree=degree, C=C),\n",
    "          dict(kernel=['rbf'],gamma=gamma, C=C)]"
   ]
  },
  {
   "cell_type": "markdown",
   "metadata": {},
   "source": [
    "It is possible to run all in once, but for illustrative purpose, we apply the CV for each classifier."
   ]
  },
  {
   "cell_type": "code",
   "execution_count": 5,
   "metadata": {
    "collapsed": false
   },
   "outputs": [
    {
     "name": "stdout",
     "output_type": "stream",
     "text": [
      "Classifier Linear\n",
      "Best score: 0.6373333333333333\n",
      "Best set of hyperparameters: {'C': 10.0, 'kernel': 'linear'}\n",
      "Correct classification rate on the test set: 0.664\n",
      "\n",
      "Classifier Poly\n",
      "Best score: 0.652\n",
      "Best set of hyperparameters: {'C': 100.0, 'degree': 1, 'kernel': 'poly'}\n",
      "Correct classification rate on the test set: 0.696\n",
      "\n",
      "Classifier Gaussian\n",
      "Best score: 0.7826666666666666\n",
      "Best set of hyperparameters: {'C': 10.0, 'kernel': 'rbf', 'gamma': 2.0}\n",
      "Correct classification rate on the test set: 0.836\n",
      "\n"
     ]
    }
   ],
   "source": [
    "for clf, params_ in zip(['Linear', 'Poly', 'Gaussian'], params):\n",
    "    print(\"Classifier {}\".format(clf))\n",
    "    grid = GridSearchCV(SVC(),  # Set up the classifier\n",
    "                    param_grid=params_, \n",
    "                    cv= 3,\n",
    "                    n_jobs=-1) # Do the grid search in parallel\n",
    "    grid.fit(X_train, y_train) # Run the grid search\n",
    "\n",
    "    # Print some results\n",
    "    print(\"Best score: {}\".format(grid.best_score_)) # Default scorer in scikit is the correct classification rate\n",
    "    print(\"Best set of hyperparameters: {}\".format(grid.best_params_))\n",
    "    \n",
    "    # Learn the optimal model\n",
    "    clf = grid.best_estimator_  # Get the best estimator\n",
    "    clf.fit(X_train,y_train)  # Fit it using the training set\n",
    "    \n",
    "    # Predict new samples\n",
    "    y_pred = clf.predict(X_test)\n",
    "\n",
    "    # Compute the overall accuracies\n",
    "    print(\"Correct classification rate on the test set: {}\\n\".format(accuracy_score(y_test,y_pred)))"
   ]
  },
  {
   "cell_type": "markdown",
   "metadata": {},
   "source": [
    "We can plot the correct classification rate function of the hyperparameters. It is important to check if our search values are correct."
   ]
  },
  {
   "cell_type": "code",
   "execution_count": 6,
   "metadata": {
    "collapsed": false
   },
   "outputs": [
    {
     "data": {
      "text/plain": [
       "<matplotlib.colorbar.Colorbar at 0x7f71dca9f6a0>"
      ]
     },
     "execution_count": 6,
     "metadata": {},
     "output_type": "execute_result"
    },
    {
     "data": {
      "image/png": "[encoded data removed]",
      "text/plain": [
       "<matplotlib.figure.Figure at 0x7f71dc866898>"
      ]
     },
     "metadata": {},
     "output_type": "display_data"
    }
   ],
   "source": [
    "res = grid.cv_results_['mean_test_score'].reshape(C.size,gamma.size)\n",
    "X, Y = sp.meshgrid(gamma, C)\n",
    "fig, ax = plt.subplots(1,1)\n",
    "cp = ax.contourf(X, Y, res)\n",
    "ax.scatter(grid.best_params_['gamma'],grid.best_params_['C'],color='k')\n",
    "ax.set_xscale(\"log\")\n",
    "ax.set_yscale(\"log\")\n",
    "ax.set_xlabel(\"Gamma\")\n",
    "ax.set_ylabel(\"C\")\n",
    "fig.colorbar(cp)"
   ]
  },
  {
   "cell_type": "code",
   "execution_count": null,
   "metadata": {
    "collapsed": true
   },
   "outputs": [],
   "source": []
  }
 ],
 "metadata": {
  "kernelspec": {
   "display_name": "Python 3",
   "language": "python",
   "name": "python3"
  },
  "language_info": {
   "codemirror_mode": {
    "name": "ipython",
    "version": 3
   },
   "file_extension": ".py",
   "mimetype": "text/x-python",
   "name": "python",
   "nbconvert_exporter": "python",
   "pygments_lexer": "ipython3",
   "version": "3.5.3"
  }
 },
 "nbformat": 4,
 "nbformat_minor": 2
}
