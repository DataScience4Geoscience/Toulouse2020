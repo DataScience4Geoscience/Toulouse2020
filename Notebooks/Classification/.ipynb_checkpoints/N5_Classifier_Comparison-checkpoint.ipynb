{
 "cells": [
  {
   "cell_type": "code",
   "execution_count": 2,
   "metadata": {},
   "outputs": [
    {
     "name": "stdout",
     "output_type": "stream",
     "text": [
      "(581012, 54)\n",
      "7173.0\n",
      "Number of samples for class 1: 211840\n",
      "Number of samples for class 2: 283301\n",
      "Number of samples for class 3: 35754\n",
      "Number of samples for class 4: 2747\n",
      "Number of samples for class 5: 9493\n",
      "Number of samples for class 6: 17367\n",
      "Number of samples for class 7: 20510\n"
     ]
    }
   ],
   "source": [
    "import scipy as sp\n",
    "\n",
    "from sklearn.datasets import load_digits as load\n",
    "\n",
    "from sklearn.preprocessing import MinMaxScaler\n",
    "from sklearn.metrics import accuracy_score\n",
    "from sklearn.model_selection import GridSearchCV, train_test_split\n",
    "\n",
    "from sklearn.svm import SVC\n",
    "from sklearn.discriminant_analysis import QuadraticDiscriminantAnalysis, LinearDiscriminantAnalysis\n",
    "from sklearn.neighbors import KNeighborsClassifier\n",
    "from sklearn.ensemble import RandomForestClassifier\n",
    "\n",
    "# This lines are used to remove warning from scikit-learn when QDA is used, to prevent noisy verbosity in the notebook: should not be used in practice!\n",
    "import warnings\n",
    "warnings.filterwarnings(\"ignore\")\n",
    "\n",
    "# Load data\n",
    "# X, y = load(return_X_y=True) # load_iris(return_X_y=True)\n",
    "from sklearn.datasets import fetch_covtype\n",
    "X, y = fetch_covtype(return_X_y=True)\n",
    "\n",
    "print(X.shape)\n",
    "print(X.max())\n",
    "\n",
    "for c in sp.unique(y):\n",
    "    print(\"Number of samples for class {}: {}\".format(c, len(sp.where(y==c)[0])))"
   ]
  },
  {
   "cell_type": "code",
   "execution_count": 4,
   "metadata": {},
   "outputs": [
    {
     "name": "stdout",
     "output_type": "stream",
     "text": [
      "(5810, 54)\n",
      "Number of samples for class 1: 2118\n",
      "Number of samples for class 2: 2833\n",
      "Number of samples for class 3: 358\n",
      "Number of samples for class 4: 27\n",
      "Number of samples for class 5: 95\n",
      "Number of samples for class 6: 174\n",
      "Number of samples for class 7: 205\n"
     ]
    }
   ],
   "source": [
    "# Standardize data\n",
    "sc = MinMaxScaler()\n",
    "X = sc.fit_transform(X) # Scale data between 0 and 1\n",
    "\n",
    "# The stratification ensures that the proportion of each class from the orginal data is preserved in the train and test set\n",
    "X_train, X_test, y_train, y_test = train_test_split(X, y, train_size=0.01, random_state=0, stratify=y)\n",
    "print(X_train.shape)\n",
    "for c in sp.unique(y):\n",
    "    print(\"Number of samples for class {}: {}\".format(c, len(sp.where(y_train==c)[0])))"
   ]
  },
  {
   "cell_type": "code",
   "execution_count": 6,
   "metadata": {},
   "outputs": [
    {
     "name": "stdout",
     "output_type": "stream",
     "text": [
      "Classification accuracy for SVM: 0.76 (best parameters {'C': 100.0, 'gamma': 0.25, 'kernel': 'rbf'})\n",
      "Classification accuracy for KNN: 0.75 (best parameters {'n_neighbors': 1})\n",
      "Classification accuracy for QDA: 0.64 (best parameters {'reg_param': 0.16326530612244897})\n",
      "Classification accuracy for LDA: 0.67 (best parameters {'shrinkage': 0.017241379310344827})\n",
      "Classification accuracy for RF: 0.79 (best parameters {'n_estimators': 120})\n"
     ]
    }
   ],
   "source": [
    "# Define the classifier list\n",
    "classifiers = [[\"SVM\", SVC()], \n",
    "               [\"KNN\", KNeighborsClassifier()],\n",
    "               [\"QDA\", QuadraticDiscriminantAnalysis()], \n",
    "               [\"LDA\", LinearDiscriminantAnalysis(solver=\"lsqr\")],\n",
    "               [\"RF\",  RandomForestClassifier()]]\n",
    "\n",
    "# Hyperparameters range\n",
    "gamma = 2.0**sp.arange(-4,2) # Scale of the RBF kernel\n",
    "C = 10.0**sp.arange(-1,4) # Penality of the optimization problem\n",
    "\n",
    "# Define the dictionnary of parameters to optimize\n",
    "param_grids = [dict(kernel=['rbf'], gamma=2.0**sp.arange(-4, 2), C=10.0**sp.arange(0,3)), # Scale and regularization\n",
    "               dict(n_neighbors = sp.arange(1, 40, 5)), # number of neighbors for KNN\n",
    "               dict(reg_param = sp.linspace(0, 1, 50)), # Regularization parameter for QDA\n",
    "               dict(shrinkage = sp.linspace(0, 0.5, 30)), # Regularization parameter for LDA\n",
    "               dict(n_estimators=sp.arange(50, 150, 10)) # Number of trees\n",
    "               ]\n",
    "\n",
    "for classifier, param_grid in zip(classifiers, param_grids):\n",
    "    grid = GridSearchCV(classifier[1], param_grid=param_grid, cv= 3, n_jobs=-1)\n",
    "    grid.fit(X_train, y_train)\n",
    "    \n",
    "    clf = grid.best_estimator_ \n",
    "    clf.fit(X_train,y_train)\n",
    "    \n",
    "    y_pred = clf.predict(X_test)\n",
    "    print(\"Classification accuracy for {}: {:.2f} (best parameters {})\".format(classifier[0],accuracy_score(y_test,y_pred),grid.best_params_))"
   ]
  },
  {
   "cell_type": "code",
   "execution_count": null,
   "metadata": {},
   "outputs": [],
   "source": []
  }
 ],
 "metadata": {
  "kernelspec": {
   "display_name": "Python 3",
   "language": "python",
   "name": "python3"
  },
  "language_info": {
   "codemirror_mode": {
    "name": "ipython",
    "version": 3
   },
   "file_extension": ".py",
   "mimetype": "text/x-python",
   "name": "python",
   "nbconvert_exporter": "python",
   "pygments_lexer": "ipython3",
   "version": "3.7.3"
  }
 },
 "nbformat": 4,
 "nbformat_minor": 2
}
