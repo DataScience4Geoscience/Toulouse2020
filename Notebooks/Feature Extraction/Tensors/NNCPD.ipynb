{
 "cells": [
  {
   "cell_type": "markdown",
   "metadata": {},
   "source": [
    "# Nonnegative Canonical Polyadic Decomposition"
   ]
  },
  {
   "cell_type": "markdown",
   "metadata": {},
   "source": [
    "In the following, we are going to perform NNCPD with tensor data.\n",
    "\n",
    "Non-Negative Canonical Polyadic Decomposition (NNCPD), is a tensor decomposition technique that extends over the CPD by adding nonnegative constraints on the factors, so it has both a diagonal nonnegative core tensor and nonnegative factor matrices. Consequently, it can be seen as a direct extension of Nonnegative Matrix Factorization (NMF) to high-order data.\n",
    "NNCPD is widely used for its nonnegativity feature to extract information that are physically interpretable.\n",
    "\n",
    "All the definitions and relationships from CPD apply to NNCPD, with a bit of difference in notation concerning the tensor rank, which is referred to as the nonnegative rank and often denoted by $R_+$.\n",
    "\n",
    "Assuming a tensor $\\boldsymbol{\\mathcal{T}}$ of dimensions $I \\times J \\times K$ and nonnegative-rank $R_+$, computing the NNCPD of this tensor is equivalent to solving the cost function:\n",
    "\n",
    "$$\\textrm{arg}\\min_{\\textbf{A},\\textbf{B},\\textbf{C}}{ \\frac{1}{2} \\| \\boldsymbol{\\mathcal{T}} - (\\textbf{A} , \\textbf{B} , \\textbf{C}) \\cdot \\boldsymbol{\\mathcal{D}} \\|_F^2 } \\textrm{ s.t. } \\textbf{A}\\succeq 0, \\textbf{B}\\succeq 0, \\textbf{C}\\succeq 0$$\n",
    "\n",
    "Yet again, this decomposition can host a variety of other constraints.\n",
    "\n",
    "---"
   ]
  },
  {
   "cell_type": "markdown",
   "metadata": {},
   "source": [
    "In the following tasks, we use the tensor library made available by TensorLy:\n",
    "+ Jean Kossaifi, Yannis Panagakis, Anima Anandkumar and Maja Pantic, TensorLy: Tensor Learning in Python, Journal of Machine Learning Research (JMLR), 2019, volume 20, number 26.\n",
    "\n",
    "First, we import the necessary libraries:"
   ]
  },
  {
   "cell_type": "code",
   "execution_count": 1,
   "metadata": {},
   "outputs": [],
   "source": [
    "import tensorly as tl\n",
    "from tensorly.decomposition import parafac\n",
    "from tensorly.decomposition import non_negative_parafac\n",
    "from tensorly import kruskal_tensor\n",
    "import numpy as np\n",
    "from numpy import linalg as la\n",
    "from scipy.io import loadmat\n",
    "np.set_printoptions(formatter={'float': lambda x: \"{0:0.3f}\".format(x)})"
   ]
  },
  {
   "cell_type": "markdown",
   "metadata": {},
   "source": [
    "#### Case of a randomly created tensor:"
   ]
  },
  {
   "cell_type": "code",
   "execution_count": 2,
   "metadata": {},
   "outputs": [
    {
     "name": "stdout",
     "output_type": "stream",
     "text": [
      "Size of the tensor: (10, 8, 6)\n"
     ]
    }
   ],
   "source": [
    "# Create a random nonnegative tensor and see how the dimensions appear in the print\n",
    "T = 10 * np.random.random_sample((10,8,6))\n",
    "\n",
    "print(\"Size of the tensor:\",T.shape)\n",
    "\n",
    "# print(\"\\nRandomly created tensor:\\n\",T)"
   ]
  },
  {
   "cell_type": "markdown",
   "metadata": {},
   "source": [
    "First, compute CPD without constraints:"
   ]
  },
  {
   "cell_type": "code",
   "execution_count": 3,
   "metadata": {},
   "outputs": [
    {
     "name": "stdout",
     "output_type": "stream",
     "text": [
      "\n",
      "Tensor Rank = 5 \n",
      "\n",
      "Norm of A = [1.000 1.000 1.000 1.000 1.000] \n",
      "\n",
      "Norm of B = [1.000 1.000 1.000 1.000 1.000] \n",
      "\n",
      "Norm of C = [1.000 1.000 1.000 1.000 1.000] \n",
      "\n",
      "Diagonal of core tensor D =  [107.793 22.277 25.518 69.323 70.527] \n",
      "\n",
      "Size of A = (10, 5)\n",
      "Size of B = (8, 5)\n",
      "Size of C = (6, 5)\n",
      "Size of Core Tensor D (as a vector) = (5,)\n"
     ]
    }
   ],
   "source": [
    "# Specify the multilinear ranks\n",
    "R = 5\n",
    "print(\"\\nTensor Rank =\",R,\"\\n\")\n",
    "\n",
    "# Calculate the factor matrices using CPD\n",
    "# If ``normalize_factors`` is set to True, then the columns\n",
    "# of the factor matrices will be normalized and absorbed in\n",
    "# the core tensors. Otherwise, the core tensor will be an \n",
    "# identity tensor and the factor matrices are not normalized.\n",
    "factors = parafac(T , R , 100, normalize_factors=True)\n",
    "\n",
    "# ``factors`` is a special type variable defined as\n",
    "# KruskalTensor, consisting of the ``weights`` that represent\n",
    "# the diagonal elements but are set to 1, and the ``matrices``\n",
    "# that are the factor matrices of the decomposition:\n",
    "weights = factors[0]\n",
    "matrices = factors[1]\n",
    "\n",
    "# Factor Matrices and Core Tensor\n",
    "A = matrices[0]\n",
    "B = matrices[1]\n",
    "C = matrices[2]\n",
    "D = weights\n",
    "\n",
    "# Check the norms of the columns of the factor matrices\n",
    "norm_A = np.sqrt( np.sum( np.square(A),axis=0 ) )\n",
    "norm_B = np.sqrt( np.sum( np.square(B),axis=0 ) )\n",
    "norm_C = np.sqrt( np.sum( np.square(C),axis=0 ) )\n",
    "print(\"Norm of A =\", norm_A,\"\\n\")\n",
    "print(\"Norm of B =\", norm_B,\"\\n\")\n",
    "print(\"Norm of C =\", norm_C,\"\\n\")\n",
    "print(\"Diagonal of core tensor D = \", D,\"\\n\")\n",
    "\n",
    "print(\"Size of A =\", np.shape(A))\n",
    "print(\"Size of B =\", np.shape(B))\n",
    "print(\"Size of C =\", np.shape(C))\n",
    "print(\"Size of Core Tensor D (as a vector) =\", np.shape(D))"
   ]
  },
  {
   "cell_type": "code",
   "execution_count": 4,
   "metadata": {},
   "outputs": [
    {
     "name": "stdout",
     "output_type": "stream",
     "text": [
      "27\n",
      "17\n",
      "16\n"
     ]
    }
   ],
   "source": [
    "# Check if factor matrices contain negative values\n",
    "\n",
    "# A\n",
    "count = 0\n",
    "numbers = np.reshape(A, np.prod(np.shape(A)) )\n",
    "count = sum(1 for i in numbers if i < 0)\n",
    "print(count)\n",
    "\n",
    "# B\n",
    "count = 0\n",
    "numbers = np.reshape(B, np.prod(np.shape(B)) )\n",
    "count = sum(1 for i in numbers if i < 0)\n",
    "print(count)\n",
    "\n",
    "# C\n",
    "count = 0\n",
    "numbers = np.reshape(C, np.prod(np.shape(C)) )\n",
    "count = sum(1 for i in numbers if i < 0)\n",
    "print(count)"
   ]
  },
  {
   "cell_type": "markdown",
   "metadata": {},
   "source": [
    "Now, compute NNCPD:"
   ]
  },
  {
   "cell_type": "code",
   "execution_count": 5,
   "metadata": {},
   "outputs": [
    {
     "name": "stdout",
     "output_type": "stream",
     "text": [
      "\n",
      "Tensor Nonnegative Rank = 5 \n",
      "\n",
      "Norm of A_p = [37.216 28.169 24.923 22.630 29.394] \n",
      "\n",
      "Norm of B_p = [1.132 0.995 0.926 1.098 0.954] \n",
      "\n",
      "Norm of C_p = [1.140 1.110 0.848 1.227 1.198] \n",
      "\n",
      "Diagonal of core tensor D_p =  [1.000 1.000 1.000 1.000 1.000] \n",
      "\n",
      "Size of A_p = (10, 5)\n",
      "Size of B_p = (8, 5)\n",
      "Size of C_p = (6, 5)\n",
      "Size of Core Tensor D_p (as a vector) = (5,)\n"
     ]
    }
   ],
   "source": [
    "# Specify the multilinear ranks\n",
    "R_p = 5\n",
    "print(\"\\nTensor Nonnegative Rank =\",R_p,\"\\n\")\n",
    "\n",
    "# Calculate the factor matrices using CPD\n",
    "# If ``normalize_factors`` is set to True, then the columns\n",
    "# of the factor matrices will be normalized and absorbed in\n",
    "# the core tensors. Otherwise, the core tensor will be an \n",
    "# identity tensor and the factor matrices are not normalized.\n",
    "factors_p = non_negative_parafac(T , R_p , 100)\n",
    "\n",
    "# ``factors`` is a special type variable defined as\n",
    "# KruskalTensor, consisting of the ``weights`` that represent\n",
    "# the diagonal elements but are set to 1, and the ``matrices``\n",
    "# that are the factor matrices of the decomposition:\n",
    "weights = factors_p[0]\n",
    "matrices = factors_p[1]\n",
    "\n",
    "# Factor Matrices and Core Tensor\n",
    "A_p = matrices[0]\n",
    "B_p = matrices[1]\n",
    "C_p = matrices[2]\n",
    "D_p = weights\n",
    "\n",
    "# Check the norms of the columns of the factor matrices\n",
    "norm_A_p = np.sqrt( np.sum( np.square(A_p),axis=0 ) )\n",
    "norm_B_p = np.sqrt( np.sum( np.square(B_p),axis=0 ) )\n",
    "norm_C_p = np.sqrt( np.sum( np.square(C_p),axis=0 ) )\n",
    "print(\"Norm of A_p =\", norm_A_p,\"\\n\")\n",
    "print(\"Norm of B_p =\", norm_B_p,\"\\n\")\n",
    "print(\"Norm of C_p =\", norm_C_p,\"\\n\")\n",
    "print(\"Diagonal of core tensor D_p = \", D_p,\"\\n\")\n",
    "\n",
    "print(\"Size of A_p =\", np.shape(A_p))\n",
    "print(\"Size of B_p =\", np.shape(B_p))\n",
    "print(\"Size of C_p =\", np.shape(C_p))\n",
    "print(\"Size of Core Tensor D_p (as a vector) =\", np.shape(D_p))"
   ]
  },
  {
   "cell_type": "code",
   "execution_count": 6,
   "metadata": {},
   "outputs": [
    {
     "name": "stdout",
     "output_type": "stream",
     "text": [
      "0\n",
      "0\n",
      "0\n"
     ]
    }
   ],
   "source": [
    "# Check if factor matrices contain negative values\n",
    "\n",
    "# A_p\n",
    "count = 0\n",
    "numbers = np.reshape(A_p, np.prod(np.shape(A_p)) )\n",
    "count = sum(1 for i in numbers if i < 0)\n",
    "print(count)\n",
    "\n",
    "# B_p\n",
    "count = 0\n",
    "numbers = np.reshape(B_p, np.prod(np.shape(B_p)) )\n",
    "count = sum(1 for i in numbers if i < 0)\n",
    "print(count)\n",
    "\n",
    "# C_p\n",
    "count = 0\n",
    "numbers = np.reshape(C_p, np.prod(np.shape(C_p)) )\n",
    "count = sum(1 for i in numbers if i < 0)\n",
    "print(count)"
   ]
  },
  {
   "cell_type": "markdown",
   "metadata": {},
   "source": [
    "**Now, it is good to observe the reconstruction error between $\\boldsymbol{\\mathcal{T}}$, and $\\boldsymbol{\\mathcal{\\hat{T}}}$ and $\\boldsymbol{\\mathcal{\\hat{T}}}_+$ with respect to the rank. (i.e. $\\|\\boldsymbol{\\mathcal{T}}-\\boldsymbol{\\mathcal{\\hat{T}}}\\|_F^2$ and $\\|\\boldsymbol{\\mathcal{T}}-\\boldsymbol{\\mathcal{\\hat{T}}}_+\\|_F^2$)**\n",
    "\n",
    "+ Try to make a plot of how the reconstruction error progresses with respect to the different values of rank for each of the two cases (unconstrained and nonnegative cases)."
   ]
  },
  {
   "cell_type": "code",
   "execution_count": 7,
   "metadata": {},
   "outputs": [
    {
     "name": "stdout",
     "output_type": "stream",
     "text": [
      "The reconstruction error using rank R = 5  is: 39.93%\n",
      "The reconstruction error using rank R_p = 5  is: 43.72%\n"
     ]
    }
   ],
   "source": [
    "# Construct the estimated tensor based on the estimated factors\n",
    "T_hat = tl.kruskal_to_tensor(factors)\n",
    "T_p_hat = tl.kruskal_to_tensor(factors_p)\n",
    "\n",
    "t = tl.tensor_to_vec(T)\n",
    "\n",
    "# Reconstruction error\n",
    "t_hat = tl.tensor_to_vec(T_hat)\n",
    "rec_err = la.norm(t-t_hat) / la.norm(t) * 100\n",
    "\n",
    "# Nonnegative Reconstruction error\n",
    "t_p_hat = tl.tensor_to_vec(T_p_hat)\n",
    "rec_err_p = la.norm(t-t_p_hat) / la.norm(t) * 100\n",
    "\n",
    "print(\"The reconstruction error using rank R =\", R ,\" is: \" + \"{:.2f}\".format(rec_err) + \"%\")\n",
    "print(\"The reconstruction error using rank R_p =\", R_p ,\" is: \" + \"{:.2f}\".format(rec_err_p) + \"%\")\n"
   ]
  },
  {
   "cell_type": "markdown",
   "metadata": {},
   "source": [
    "So far, we computed the unconstrained CPD and the nonnegative CPD using the same original data and same rank. In general, the nonnegative rank of a tensor is greater or equal to the tensor rank.\n",
    "+ What do you deduce from the difference in reconstruction errors?\n",
    "\n",
    "---"
   ]
  },
  {
   "cell_type": "markdown",
   "metadata": {},
   "source": [
    "#### Case of loading a physically meaningful tensor:"
   ]
  }
 ],
 "metadata": {
  "kernelspec": {
   "display_name": "Python 3",
   "language": "python",
   "name": "python3"
  },
  "language_info": {
   "codemirror_mode": {
    "name": "ipython",
    "version": 3
   },
   "file_extension": ".py",
   "mimetype": "text/x-python",
   "name": "python",
   "nbconvert_exporter": "python",
   "pygments_lexer": "ipython3",
   "version": "3.6.9"
  }
 },
 "nbformat": 4,
 "nbformat_minor": 4
}
