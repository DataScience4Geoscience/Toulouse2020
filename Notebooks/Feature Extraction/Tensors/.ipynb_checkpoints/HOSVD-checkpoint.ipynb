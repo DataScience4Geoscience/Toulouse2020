{
 "cells": [
  {
   "cell_type": "markdown",
   "metadata": {},
   "source": [
    "# High Order Singular Value Decomposition"
   ]
  },
  {
   "cell_type": "markdown",
   "metadata": {},
   "source": [
    "## Introduction to HOSVD\n",
    "\n",
    "In the following, we are going to perform HOSVD with tensor data.\n",
    "\n",
    "With HOSVD, the factor matrices are orthogonal since they are taken as the singular matrices of the SVD of the different tensor mode-unfoldings.\n",
    "\n",
    "A tensor mode-unfolding is the reshaping of a tensor into matrix form by fixing one mode and concatenating the others.\n",
    "\n",
    "Finally, the core tensor is computed by multiplying the original tensor by the transpose of the factor matrices.\n",
    "\n",
    "For a 3rd-order tensor $\\boldsymbol{\\mathcal{T}}$ of dimensions $I\\times J\\times K$ and multilinear rank $\\{R_1,R_2,R_3\\}$:\n",
    "+ $\\textbf{T}_{(1)}\\in\\mathbb{R}^{I\\times JK}$ of matrix rank $R_1$.\n",
    "+ $\\textbf{T}_{(2)}\\in\\mathbb{R}^{J\\times IK}$ of matrix rank $R_2$.\n",
    "+ $\\textbf{T}_{(3)}\\in\\mathbb{R}^{K\\times IJ}$ of matrix rank $R_3$.\n",
    "\n",
    "Assuming that the decomposition of $\\boldsymbol{\\mathcal{T}}$ is of the form:\n",
    "$$\\boldsymbol{\\mathcal{T}} = \\boldsymbol{\\mathcal{D}} \\mathop{\\bullet}_1 \\textbf{A} \\mathop{\\bullet}_2 \\textbf{B} \\mathop{\\bullet}_3 \\textbf{C}$$\n",
    "\n",
    "Then:\n",
    "+ $\\textbf{A}\\in\\mathbb{R}^{I\\times R_1}$ is the left singular matrix of the SVD of $\\textbf{T}_{(1)}$ such that $\\textbf{T}_{(1)} = \\textbf{A} \\textbf{S}_1 \\textbf{V}_1$\n",
    "+ $\\textbf{B}\\in\\mathbb{R}^{J\\times R_2}$ is the left singular matrix of the SVD of $\\textbf{T}_{(2)}$ such that $\\textbf{T}_{(2)} = \\textbf{B} \\textbf{S}_2 \\textbf{V}_2$\n",
    "+ $\\textbf{C}\\in\\mathbb{R}^{K\\times R_3}$ is the left singular matrix of the SVD of $\\textbf{T}_{(3)}$ such that $\\textbf{T}_{(3)} = \\textbf{C} \\textbf{S}_3 \\textbf{V}_3$\n",
    "+ $\\boldsymbol{\\mathcal{D}}\\in\\mathbb{R}^{R_1\\times R_2\\times R_3}$ is calculated as follows: $\\boldsymbol{\\mathcal{D}} = \\boldsymbol{\\mathcal{T}} \\mathop{\\bullet}_1 \\textbf{A}^{\\top} \\mathop{\\bullet}_2 \\textbf{B}^{\\top} \\mathop{\\bullet}_3 \\textbf{C}^{\\top}$\n",
    "\n",
    "---"
   ]
  },
  {
   "cell_type": "markdown",
   "metadata": {},
   "source": [
    "First, we load a hyperspectral image as a $3$D array of dimensions $610\\times 340\\times 103$:"
   ]
  },
  {
   "cell_type": "code",
   "execution_count": 1,
   "metadata": {},
   "outputs": [],
   "source": [
    "import tensorly as tl\n",
    "from tensorly.decomposition import tucker\n",
    "import numpy as np\n",
    "from scipy.io import loadmat\n",
    "np.set_printoptions(formatter={'float': lambda x: \"{0:0.3f}\".format(x)})"
   ]
  },
  {
   "cell_type": "code",
   "execution_count": 2,
   "metadata": {},
   "outputs": [
    {
     "name": "stdout",
     "output_type": "stream",
     "text": [
      "The hyperspectral image has dimensions: (610, 340, 103)\n"
     ]
    }
   ],
   "source": [
    "# Load HSI of Pavia University:\n",
    "T = loadmat(\"../data/pavia_uni.mat\")\n",
    "T = T['pavia_uni']\n",
    "dim_T = np.shape(T)\n",
    "print(\"The hyperspectral image has dimensions:\", dim_T)"
   ]
  },
  {
   "cell_type": "markdown",
   "metadata": {},
   "source": [
    "Now, we perform the HOSVD (might take a couple of seconds to finish):"
   ]
  },
  {
   "cell_type": "code",
   "execution_count": 3,
   "metadata": {},
   "outputs": [
    {
     "name": "stdout",
     "output_type": "stream",
     "text": [
      "\n",
      "Size of first Mode-Unfolding:\n",
      " (610, 35020)\n",
      "\n",
      "Size of second Mode-Unfolding:\n",
      " (340, 62830)\n",
      "\n",
      "Size of third Mode-Unfolding:\n",
      " (103, 207400)\n",
      "\n",
      "(R_1,R_2,R_3): [20 15  5]\n",
      "Size of A = (610, 20)\n",
      "Size of B = (340, 15)\n",
      "Size of C = (103, 5)\n",
      "Size of Core Tensor D = (20, 15, 5)\n"
     ]
    }
   ],
   "source": [
    "# mode-1 unfolding\n",
    "T_u1 = tl.unfold(T, mode=0)\n",
    "print(\"\\nSize of first Mode-Unfolding:\\n\",np.shape(T_u1))\n",
    "\n",
    "# mode-2 unfolding\n",
    "T_u2 = tl.unfold(T, mode=1)\n",
    "print(\"\\nSize of second Mode-Unfolding:\\n\",np.shape(T_u2))\n",
    "\n",
    "# mode-3 unfolding\n",
    "T_u3 = tl.unfold(T, mode=2)\n",
    "print(\"\\nSize of third Mode-Unfolding:\\n\",np.shape(T_u3))\n",
    "\n",
    "# Specify the multilinear ranks\n",
    "multilinear_ranks = np.array([20,15,5])\n",
    "print(\"\\n(R_1,R_2,R_3):\",multilinear_ranks)\n",
    "\n",
    "# Calculate the factor matrices using the SVD and\n",
    "# truncate the singular vectors with the value of the corresponding rank\n",
    "A, S1, V1 = np.linalg.svd(T_u1, full_matrices=False)\n",
    "A = A[:,0:multilinear_ranks[0]]\n",
    "B, S2, V2 = np.linalg.svd(T_u2, full_matrices=False)\n",
    "B = B[:,0:multilinear_ranks[1]]\n",
    "C, S3, V3 = np.linalg.svd(T_u3, full_matrices=False)\n",
    "C = C[:,0:multilinear_ranks[2]]\n",
    "\n",
    "# Compute the core tensor using the contraction operator (mode-product)\n",
    "D = tl.tenalg.multi_mode_dot(T, [np.transpose(A), np.transpose(B), np.transpose(C)])\n",
    "\n",
    "# Print the sizes of the factors\n",
    "print(\"Size of A =\", np.shape(A))\n",
    "print(\"Size of B =\", np.shape(B))\n",
    "print(\"Size of C =\", np.shape(C))\n",
    "print(\"Size of Core Tensor D =\", np.shape(D))"
   ]
  },
  {
   "cell_type": "markdown",
   "metadata": {},
   "source": [
    "We notice how the dimensions of the factors conform with the definition of how HOSVD is computed.\n",
    "\n",
    "The following box is a free space for coding:\n",
    "+ Try to tune the values of the multilinear rank and perform the HOSVD.\n",
    "+ What kind of information lie in the factor matrices in the case of a hyperspectral image tensor?\n",
    "+ You may also load or create a tensor and look at its HOSVD results."
   ]
  },
  {
   "cell_type": "code",
   "execution_count": null,
   "metadata": {},
   "outputs": [],
   "source": []
  }
 ],
 "metadata": {
  "kernelspec": {
   "display_name": "Python 3",
   "language": "python",
   "name": "python3"
  },
  "language_info": {
   "codemirror_mode": {
    "name": "ipython",
    "version": 3
   },
   "file_extension": ".py",
   "mimetype": "text/x-python",
   "name": "python",
   "nbconvert_exporter": "python",
   "pygments_lexer": "ipython3",
   "version": "3.6.9"
  }
 },
 "nbformat": 4,
 "nbformat_minor": 4
}
