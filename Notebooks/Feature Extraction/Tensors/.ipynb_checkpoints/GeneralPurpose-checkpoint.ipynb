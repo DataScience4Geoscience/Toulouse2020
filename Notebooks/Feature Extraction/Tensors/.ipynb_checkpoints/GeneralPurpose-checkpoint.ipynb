{
 "cells": [
  {
   "cell_type": "markdown",
   "metadata": {},
   "source": [
    "## General Introduction to Tensors\n",
    "\n",
    "In the following, we are going to see some tensor notation and basic operations.\n",
    "\n",
    "+ A tensor is represented as a multi-modal array of three or more modes. In that sense, a matrix can be called a tensor of two modes.\n",
    "+ The number of modes that a tensor have is called the order of the tensor. That is, a tensor of three modes is a 3rd-order tensor.\n",
    "+ The number of elements along one mode is called the dimension of the mode.\n",
    "\n",
    "The most general tensor decomposition is called Tucker decomposition, where an $N$-th-order tensor $\\boldsymbol{\\mathcal{T}}$ of dimensions $I\\times J\\times K$ is decomposed into $N$ factor matrices and an $N$-th-order core tensor $\\boldsymbol{\\mathcal{D}}$. For a 3rd-order tensor $\\boldsymbol{\\mathcal{T}}$ of multilinear rank $\\{R_1,R_2,R_3\\}$, the goal is to minimize the following cost function:\n",
    "\n",
    "$$\\textrm{arg}\\min_{\\textbf{A},\\textbf{B},\\textbf{C},\\boldsymbol{\\mathcal{D}}} {\\frac{1}{2}\\|\\boldsymbol{\\mathcal{T}}-\\boldsymbol{\\mathcal{D}} \\mathop{\\bullet}_1 \\textbf{A} \\mathop{\\bullet}_2 \\textbf{B} \\mathop{\\bullet}_3 \\textbf{C}\\|_2^2}$$\n",
    "\n",
    "Where:\n",
    "+ $A$, $B$, and $C$ are the factor matrices of dimensions $I\\times R_1$, $J\\times R_2$, and $K\\times R_3$ respectively.\n",
    "+ $A$, $B$, and $C$ represent the first, second, and third modes of the tensor respectively, and so on as the order of the tensor increases.\n",
    "+ $\\boldsymbol{\\mathcal{D}}$ is of dimensions $R_1\\times R_2\\times R_3$ and its values govern the interactions between the columns (components) of the factor matrices. We can see this in the following element-wise formula:\n",
    "\n",
    "$$t_{ijk} = \\sum_{r_1=1}^{R_1}\\sum_{r_2=1}^{R_2}\\sum_{r_3=1}^{R_3} d_{r_1r_2r_3} \\cdot a_{ir_1} \\cdot b_{jr_2} \\cdot c_{kr_3}$$\n",
    "\n",
    "---"
   ]
  },
  {
   "cell_type": "markdown",
   "metadata": {},
   "source": [
    "## Basic Tensor Operations\n",
    "\n",
    "In the following tasks, we use the tensor library made available by TensorLy:\n",
    "+ Jean Kossaifi, Yannis Panagakis, Anima Anandkumar and Maja Pantic, TensorLy: Tensor Learning in Python, Journal of Machine Learning Research (JMLR), 2019, volume 20, number 26.\n",
    "\n",
    "First, import the library and create any random tensor:"
   ]
  },
  {
   "cell_type": "code",
   "execution_count": 2,
   "metadata": {},
   "outputs": [
    {
     "name": "stdout",
     "output_type": "stream",
     "text": [
      "Size of the tensor: (2, 3, 4)\n",
      "\n",
      "Randomly created tensor:\n",
      " [[[0.751 0.518 0.995 0.349]\n",
      "  [0.852 0.235 0.688 0.359]\n",
      "  [0.126 0.037 0.362 0.334]]\n",
      "\n",
      " [[0.694 0.521 0.973 0.613]\n",
      "  [0.475 0.364 0.393 0.753]\n",
      "  [0.091 0.198 0.050 0.611]]]\n"
     ]
    }
   ],
   "source": [
    "import tensorly as tl\n",
    "import numpy as np\n",
    "np.set_printoptions(formatter={'float': lambda x: \"{0:0.3f}\".format(x)})\n",
    "\n",
    "# Create a random 2x3x4 tensor and see how the dimensions appear in the print\n",
    "T = np.random.random((2, 3, 4))\n",
    "\n",
    "print(\"Size of the tensor:\",T.shape)\n",
    "\n",
    "print(\"\\nRandomly created tensor:\\n\",T)"
   ]
  },
  {
   "cell_type": "markdown",
   "metadata": {},
   "source": [
    "### Tensor Mode-Unfoldings\n",
    "\n",
    "Perform the different mode-unfoldings of a tensor and observe how reshaping takes place:"
   ]
  },
  {
   "cell_type": "code",
   "execution_count": 3,
   "metadata": {},
   "outputs": [
    {
     "name": "stdout",
     "output_type": "stream",
     "text": [
      "Size of the tensor: (2, 3, 4)\n",
      "\n",
      "First Mode-Unfolding:\n",
      " [[11 12 13 14 15 16 17 18 19 20 21 22]\n",
      " [23 24 25 26 27 28 29 30 31 32 33 34]]\n",
      "\n",
      "Second Mode-Unfolding:\n",
      " [[11 12 13 14 23 24 25 26]\n",
      " [15 16 17 18 27 28 29 30]\n",
      " [19 20 21 22 31 32 33 34]]\n",
      "\n",
      "Third Mode-Unfolding:\n",
      " [[11 15 19 23 27 31]\n",
      " [12 16 20 24 28 32]\n",
      " [13 17 21 25 29 33]\n",
      " [14 18 22 26 30 34]]\n"
     ]
    }
   ],
   "source": [
    "# Create the tensor\n",
    "T = np.array([[[11, 12, 13, 14],\n",
    "               [15, 16, 17, 18],\n",
    "               [19, 20, 21, 22]],\n",
    "              \n",
    "              [[23, 24, 25, 26],\n",
    "               [27, 28, 29, 30],\n",
    "               [31, 32, 33, 34]]])\n",
    "\n",
    "print(\"Size of the tensor:\",T.shape)\n",
    "\n",
    "# mode-1 unfolding\n",
    "T_u1 = tl.unfold(T, mode=0)\n",
    "print(\"\\nFirst Mode-Unfolding:\\n\",T_u1)\n",
    "\n",
    "# mode-2 unfolding\n",
    "T_u2 = tl.unfold(T, mode=1)\n",
    "print(\"\\nSecond Mode-Unfolding:\\n\",T_u2)\n",
    "\n",
    "# mode-3 unfolding\n",
    "T_u3 = tl.unfold(T, mode=2)\n",
    "print(\"\\nThird Mode-Unfolding:\\n\",T_u3)"
   ]
  },
  {
   "cell_type": "code",
   "execution_count": 4,
   "metadata": {},
   "outputs": [
    {
     "data": {
      "text/plain": [
       "array([[[11, 12, 13, 14],\n",
       "        [15, 16, 17, 18],\n",
       "        [19, 20, 21, 22]],\n",
       "\n",
       "       [[23, 24, 25, 26],\n",
       "        [27, 28, 29, 30],\n",
       "        [31, 32, 33, 34]]])"
      ]
     },
     "execution_count": 4,
     "metadata": {},
     "output_type": "execute_result"
    }
   ],
   "source": [
    "# mode-1 refold the unfolded tensor\n",
    "tl.fold(T_u1, mode=0, shape=T.shape)\n",
    "\n",
    "# mode-2 refold the unfolded tensor\n",
    "tl.fold(T_u2, mode=1, shape=T.shape)\n",
    "\n",
    "# mode-3 refold the unfolded tensor\n",
    "tl.fold(T_u3, mode=2, shape=T.shape)"
   ]
  },
  {
   "cell_type": "markdown",
   "metadata": {},
   "source": [
    "In addition to the matrix unfoldings, one can also vectorize a tensor using the function `tensor_to_vec(tensor)` and unvectorize using the function `vec_to_tensor(vec, shape)` from TensorLy."
   ]
  },
  {
   "cell_type": "markdown",
   "metadata": {
    "jupyter": {
     "source_hidden": true
    }
   },
   "source": [
    "### Outer Product\n",
    "\n",
    "The **Outer Product** between two vectors $\\textbf{a}\\in\\mathbb{R}^{I}$ and $\\textbf{b}\\in\\mathbb{R}^{J}$ results in a matrix, call it $\\textbf{M}$, of size $I\\times J$ and defined by:\n",
    "$$\n",
    "\\textbf{M}\n",
    "=\n",
    "\\textbf{a} \\otimes \\textbf{b}\n",
    "\\rightarrow\n",
    "t_{i,j}\n",
    "=\n",
    "a_i b_j\n",
    "$$\n",
    "\n",
    "The **Outer Product** between 3 vectors $\\textbf{a}\\in\\mathbb{R}^{I}$, $\\textbf{b}\\in\\mathbb{R}^{J}$ and $\\textbf{c}\\in\\mathbb{R}^{K}$ results in a 3rd-order tensor $\\boldsymbol{\\mathcal{T}}$ of size $I\\times J\\times K$ and defined by:\n",
    "$$\n",
    "\\boldsymbol{\\mathcal{T}}\n",
    "=\n",
    "\\textbf{a} \\otimes \\textbf{b} \\otimes \\textbf{c}\n",
    "\\rightarrow\n",
    "t_{i,j,k}\n",
    "=\n",
    "a_i b_j c_k\n",
    "$$\n",
    "\n",
    "And so on, the **Outer Product** between $N$ vectors $\\textbf{v}^{(1)}\\in\\mathbb{R}^{I_1}, \\dots, \\textbf{v}^{(N)}\\in\\mathbb{R}^{I_N}$ results in an $N$-th order tensor $\\boldsymbol{\\mathcal{T}}$ of size $I_1\\times \\dots \\times I_N$ and defined by:\n",
    "$$\n",
    "\\boldsymbol{\\mathcal{T}}\n",
    "=\n",
    "\\textbf{v}^{(1)} \\otimes \\dots \\otimes \\textbf{v}^{(N)}\n",
    "\\rightarrow\n",
    "t_{i_1, \\dots, i_N}\n",
    "=\n",
    "v^{(1)}_{i_{1}} \\dots v^{(N)}_{i_{N}}\n",
    "$$\n"
   ]
  },
  {
   "cell_type": "code",
   "execution_count": null,
   "metadata": {
    "jupyter": {
     "source_hidden": true
    }
   },
   "outputs": [],
   "source": []
  },
  {
   "cell_type": "markdown",
   "metadata": {},
   "source": [
    "### Kronecker Product\n",
    "\n",
    "The **Kronecker Product** between two matrices $\\textbf{A}\\in\\mathbb{R}^{I\\times L}$ and $\\textbf{B}\\in\\mathbb{R}^{J\\times M}$ results in a third matrix of size $IJ\\times LM$ and defined by:\n",
    "$$\n",
    "\\textbf{A} \\boxtimes \\textbf{B}\n",
    "=\n",
    "\\begin{bmatrix}\n",
    "    a_{11}\\textbf{B} & \\dots  & a_{1L}\\textbf{B} \\\\\n",
    "    \\vdots         & \\ddots & \\vdots \\\\\n",
    "    a_{I1}\\textbf{B} & \\dots  & a_{IL}\\textbf{B}\n",
    "\\end{bmatrix}\n",
    "$$\n",
    "\n",
    "In the following example, you can observe the differences between the input and result."
   ]
  },
  {
   "cell_type": "code",
   "execution_count": 5,
   "metadata": {},
   "outputs": [
    {
     "name": "stdout",
     "output_type": "stream",
     "text": [
      "\n",
      "A =\n",
      " [[1 2]\n",
      " [3 4]]\n",
      "\n",
      "B =\n",
      " [[1 1 1]\n",
      " [1 1 1]\n",
      " [1 1 1]]\n",
      "\n",
      "Kronecker(A,B) =\n",
      " [[1 1 1 2 2 2]\n",
      " [1 1 1 2 2 2]\n",
      " [1 1 1 2 2 2]\n",
      " [3 3 3 4 4 4]\n",
      " [3 3 3 4 4 4]\n",
      " [3 3 3 4 4 4]]\n"
     ]
    }
   ],
   "source": [
    "import tensorly as tl\n",
    "import numpy as np\n",
    "\n",
    "A = np.array([[1, 2],\n",
    "              [3, 4]])\n",
    "\n",
    "B = np.array([[1, 1, 1],\n",
    "              [1, 1, 1],\n",
    "              [1, 1, 1]])\n",
    "\n",
    "Kron = tl.tenalg.kronecker([A, B])\n",
    "\n",
    "print(\"\\nA =\\n\", A)\n",
    "print(\"\\nB =\\n\", B)\n",
    "print(\"\\nKronecker(A,B) =\\n\", Kron)"
   ]
  },
  {
   "cell_type": "markdown",
   "metadata": {},
   "source": [
    "### Khatri-Rao Product\n",
    "\n",
    "##### Khatri-Rao Product\n",
    "Now, define matrices $\\textbf{A}$ and $\\textbf{B}$, each partitioned into sub-matrices such that $\\textbf{A} = \\left[ \\textbf{A}_1 , \\dots , \\textbf{A}_R \\right]$ and $\\textbf{B} = \\left[ \\textbf{B}_1 , \\dots , \\textbf{B}_R \\right]$. The **Khatri-Rao Product** between two matrices $\\textbf{A}$ and $\\textbf{B}$ is their **partition-wise Kronecker Product** such that:\n",
    "$$\n",
    "\\textbf{A} \\odot \\textbf{B}\n",
    "=\n",
    "\\begin{bmatrix}\n",
    "    \\textbf{A}_1 \\boxtimes \\textbf{B}_1 & \\dots  & \\textbf{A}_R \\boxtimes \\textbf{B}_R\n",
    "\\end{bmatrix}\n",
    "$$\n",
    "\n",
    "##### Khatri-Rao Product - Column-wise\n",
    "Following suite, the **column-wise Khatri-Rao Product** between two matrices $\\textbf{A}$ and $\\textbf{B}$, essentially having the same number of columns (in other words, partitioned column-wise into $R$ columns), is their **column-wise Kronecker Product**:\n",
    "$$\n",
    "\\textbf{A} \\odot_c \\textbf{B}\n",
    "=\n",
    "\\begin{bmatrix}\n",
    "    \\textbf{a}_1 \\boxtimes \\textbf{b}_1 & \\dots  & \\textbf{a}_R \\boxtimes \\textbf{b}_R\n",
    "\\end{bmatrix}\n",
    "$$\n",
    "\n",
    "In the following example, you can observe the differences between the input and result."
   ]
  },
  {
   "cell_type": "code",
   "execution_count": 6,
   "metadata": {},
   "outputs": [
    {
     "name": "stdout",
     "output_type": "stream",
     "text": [
      "\n",
      "A =\n",
      " [[1 2]\n",
      " [3 4]]\n",
      "\n",
      "B =\n",
      " [[1 1]\n",
      " [1 1]\n",
      " [1 1]]\n",
      "\n",
      "Khatri-Rao(A,B) =\n",
      " [[1 2]\n",
      " [1 2]\n",
      " [1 2]\n",
      " [3 4]\n",
      " [3 4]\n",
      " [3 4]]\n"
     ]
    }
   ],
   "source": [
    "import tensorly as tl\n",
    "import numpy as np\n",
    "\n",
    "A = np.array([[1, 2],\n",
    "              [3, 4]])\n",
    "\n",
    "B = np.array([[1, 1],\n",
    "              [1, 1],\n",
    "              [1, 1]])\n",
    "\n",
    "Kara = tl.tenalg.khatri_rao([A, B])\n",
    "\n",
    "print(\"\\nA =\\n\", A)\n",
    "print(\"\\nB =\\n\", B)\n",
    "print(\"\\nKhatri-Rao(A,B) =\\n\", Kara)"
   ]
  },
  {
   "cell_type": "markdown",
   "metadata": {},
   "source": [
    "### Contraction (The Specific Case of Mode-product)\n",
    "\n",
    "The **contraction operator**, defined at a certain mode, represents the product between a tensor and a matrix along that mode. For example, if $\\boldsymbol{\\mathcal{D}}\\in\\mathbb{R}^{R_1\\times R_2\\times R_3}$, $\\textbf{A}\\in\\mathbb{R}^{I\\times R_1}$ and  $\\textbf{B}\\in\\mathbb{R}^{J\\times R_2}$, the result would be a tensor $\\boldsymbol{\\mathcal{T}}\\in\\mathbb{R}^{I\\times J\\times R_3}$:\n",
    "$$\n",
    "\\boldsymbol{\\mathcal{T}} = \\boldsymbol{\\mathcal{D}} \\mathop{\\bullet}_1 \\textbf{A} \\mathop{\\bullet}_2 \\textbf{B} \\rightarrow t_{i,j,n} = \\sum_{r_1=1}^{R_1} \\sum_{r_2=1}^{R_2} d_{r_1,r_2,n} a_{i,r_1} b_{j,r_2}\n",
    "$$\n",
    "\n",
    "In the following examples, we are going to use one matrix multiplied by the first mode, you can observe the differences between the input and result."
   ]
  },
  {
   "cell_type": "code",
   "execution_count": 7,
   "metadata": {},
   "outputs": [
    {
     "name": "stdout",
     "output_type": "stream",
     "text": [
      "\n",
      "T has dimensions (3, 3, 3)\n",
      "\n",
      "A has dimensions (5, 3)\n",
      "\n",
      "The contraption has dimensions (5, 3, 3)\n",
      "\n",
      "T =\n",
      " [[[11 12 13]\n",
      "  [14 15 16]\n",
      "  [17 18 19]]\n",
      "\n",
      " [[20 21 22]\n",
      "  [23 24 25]\n",
      "  [26 27 28]]\n",
      "\n",
      " [[29 30 31]\n",
      "  [32 33 34]\n",
      "  [35 36 37]]]\n",
      "\n",
      "A =\n",
      " [[1 0 0]\n",
      " [0 1 0]\n",
      " [0 0 1]\n",
      " [1 0 0]\n",
      " [0 1 0]]\n",
      "\n",
      "Contraption_1(T,A)=\n",
      " [[[11 12 13]\n",
      "  [14 15 16]\n",
      "  [17 18 19]]\n",
      "\n",
      " [[20 21 22]\n",
      "  [23 24 25]\n",
      "  [26 27 28]]\n",
      "\n",
      " [[29 30 31]\n",
      "  [32 33 34]\n",
      "  [35 36 37]]\n",
      "\n",
      " [[11 12 13]\n",
      "  [14 15 16]\n",
      "  [17 18 19]]\n",
      "\n",
      " [[20 21 22]\n",
      "  [23 24 25]\n",
      "  [26 27 28]]]\n"
     ]
    }
   ],
   "source": [
    "# Tensor by one matrix\n",
    "temp = np.arange(11,38)\n",
    "T = np.reshape(temp,(3,3,3))\n",
    "\n",
    "A = np.array([[1, 0, 0],\n",
    "              [0, 1, 0],\n",
    "              [0, 0, 1],\n",
    "              [1, 0, 0],\n",
    "              [0, 1, 0]])\n",
    "\n",
    "Cont_1 = tl.tenalg.mode_dot(T, A, 0)\n",
    "\n",
    "print(\"\\nT has dimensions\", np.shape(T))\n",
    "print(\"\\nA has dimensions\", np.shape(A))\n",
    "print(\"\\nThe contraption has dimensions\", np.shape(Cont_1))\n",
    "\n",
    "print(\"\\nT =\\n\", T)\n",
    "print(\"\\nA =\\n\", A)\n",
    "print(\"\\nContraption_1(T,A)=\\n\", Cont_1)"
   ]
  },
  {
   "cell_type": "markdown",
   "metadata": {},
   "source": [
    "In the following examples, we are going to use two matrices multiplied by the first and second modes, you can observe the differences between the input and result."
   ]
  },
  {
   "cell_type": "code",
   "execution_count": 8,
   "metadata": {},
   "outputs": [
    {
     "name": "stdout",
     "output_type": "stream",
     "text": [
      "\n",
      "T has dimensions (3, 3, 3)\n",
      "\n",
      "A has dimensions (5, 3)\n",
      "\n",
      "B has dimensions (4, 3)\n",
      "\n",
      "The contraption has dimensions (5, 4, 3)\n",
      "\n",
      "T =\n",
      " [[[11 12 13]\n",
      "  [14 15 16]\n",
      "  [17 18 19]]\n",
      "\n",
      " [[20 21 22]\n",
      "  [23 24 25]\n",
      "  [26 27 28]]\n",
      "\n",
      " [[29 30 31]\n",
      "  [32 33 34]\n",
      "  [35 36 37]]]\n",
      "\n",
      "A =\n",
      " [[1 0 0]\n",
      " [0 1 0]\n",
      " [0 0 1]\n",
      " [1 0 0]\n",
      " [0 1 0]]\n",
      "\n",
      "B =\n",
      " [[1 0 0]\n",
      " [0 2 0]\n",
      " [0 0 3]\n",
      " [4 0 0]]\n",
      "\n",
      "Contraption_2(T,A,B)=\n",
      " [[[ 11  12  13]\n",
      "  [ 28  30  32]\n",
      "  [ 51  54  57]\n",
      "  [ 44  48  52]]\n",
      "\n",
      " [[ 20  21  22]\n",
      "  [ 46  48  50]\n",
      "  [ 78  81  84]\n",
      "  [ 80  84  88]]\n",
      "\n",
      " [[ 29  30  31]\n",
      "  [ 64  66  68]\n",
      "  [105 108 111]\n",
      "  [116 120 124]]\n",
      "\n",
      " [[ 11  12  13]\n",
      "  [ 28  30  32]\n",
      "  [ 51  54  57]\n",
      "  [ 44  48  52]]\n",
      "\n",
      " [[ 20  21  22]\n",
      "  [ 46  48  50]\n",
      "  [ 78  81  84]\n",
      "  [ 80  84  88]]]\n"
     ]
    }
   ],
   "source": [
    "# Tensor by one matrix\n",
    "temp = np.arange(11,38)\n",
    "T = np.reshape(temp,(3,3,3))\n",
    "\n",
    "A = np.array([[1, 0, 0],\n",
    "              [0, 1, 0],\n",
    "              [0, 0, 1],\n",
    "              [1, 0, 0],\n",
    "              [0, 1, 0]])\n",
    "\n",
    "B = np.array([[1, 0, 0],\n",
    "              [0, 2, 0],\n",
    "              [0, 0, 3],\n",
    "              [4, 0, 0]])\n",
    "\n",
    "Cont_2 = tl.tenalg.multi_mode_dot(T, [A, B])\n",
    "\n",
    "print(\"\\nT has dimensions\", np.shape(T))\n",
    "print(\"\\nA has dimensions\", np.shape(A))\n",
    "print(\"\\nB has dimensions\", np.shape(B))\n",
    "print(\"\\nThe contraption has dimensions\", np.shape(Cont_2))\n",
    "\n",
    "print(\"\\nT =\\n\", T)\n",
    "print(\"\\nA =\\n\", A)\n",
    "print(\"\\nB =\\n\", B)\n",
    "print(\"\\nContraption_2(T,A,B)=\\n\", Cont_2)"
   ]
  }
 ],
 "metadata": {
  "kernelspec": {
   "display_name": "Python 3",
   "language": "python",
   "name": "python3"
  }
 },
 "nbformat": 4,
 "nbformat_minor": 4
}
