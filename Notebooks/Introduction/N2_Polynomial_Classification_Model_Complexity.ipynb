{
 "cells": [
  {
   "cell_type": "markdown",
   "metadata": {},
   "source": [
    "This notebook can be run on colab: [here](https://colab.research.google.com/github/DataScience4Geoscience/Toulouse2020/blob/master/Notebooks/Introduction/N2_Polynomial_Classification_Model_Complexity.ipynb)"
   ]
  },
  {
   "cell_type": "code",
   "execution_count": null,
   "metadata": {},
   "outputs": [],
   "source": [
    "# Import modules\n",
    "%matplotlib inline\n",
    "import matplotlib\n",
    "import scipy as sp\n",
    "import matplotlib.pyplot as plt\n",
    "# Select random seed\n",
    "random_state = 0"
   ]
  },
  {
   "cell_type": "markdown",
   "metadata": {},
   "source": [
    "# Model Complexity"
   ]
  },
  {
   "cell_type": "markdown",
   "metadata": {},
   "source": [
    "We make use of scikit pipiline mechanism to estimate linear classification of different order"
   ]
  },
  {
   "cell_type": "code",
   "execution_count": null,
   "metadata": {},
   "outputs": [],
   "source": [
    "from sklearn.pipeline import make_pipeline, Pipeline\n",
    "from sklearn.preprocessing import PolynomialFeatures"
   ]
  },
  {
   "cell_type": "markdown",
   "metadata": {},
   "source": [
    "Th PolynomialFeatures functions generates higher order polynoms from the initial samples. For instances, from (x_1, x_2) we could generate (1, x_1, x_2, x_1x_2, x_1^2,x_2^2). It can be usefull when the decision boundary is not linear."
   ]
  },
  {
   "cell_type": "code",
   "execution_count": null,
   "metadata": {},
   "outputs": [],
   "source": [
    "from sklearn.datasets import make_moons\n",
    "X,y = make_moons(n_samples=150, random_state=random_state, noise=0.25)\n",
    "y[y==0]=-1\n",
    "plt.scatter(X[:,0], X[:,1], c=y)\n",
    "plt.grid(\"on\")\n",
    "# Plot the decision functions\n",
    "XX, YY = sp.meshgrid(sp.linspace(X[:,0].min(), X[:,0].max(),200),\n",
    "                     sp.linspace(X[:,1].min(), X[:,1].max(),200))\n",
    "XY = sp.vstack([ XX.flatten(), YY.flatten() ]).T"
   ]
  },
  {
   "cell_type": "code",
   "execution_count": null,
   "metadata": {},
   "outputs": [],
   "source": [
    "from sklearn import linear_model\n",
    "degree = 5# Degree of the polynomial 1 ->10\n",
    "model = make_pipeline(PolynomialFeatures(degree), linear_model.RidgeClassifier())\n",
    "model.fit(X, y)\n",
    "yp= model.predict(XY)\n",
    "plt.contour(XX,YY,yp.reshape(XX.shape),[0])\n",
    "plt.grid()\n",
    "plt.scatter(X[:,0], X[:,1], c=y)\n"
   ]
  },
  {
   "cell_type": "markdown",
   "metadata": {},
   "source": [
    "# Test error VS Train Error"
   ]
  },
  {
   "cell_type": "code",
   "execution_count": null,
   "metadata": {},
   "outputs": [],
   "source": [
    "from sklearn.model_selection import train_test_split"
   ]
  },
  {
   "cell_type": "markdown",
   "metadata": {},
   "source": [
    "We split the initial set in two sets: one use for training the model, and one use to compute the validation error. Then we can see the influence of the polynom order on the classifification accuracy."
   ]
  },
  {
   "cell_type": "code",
   "execution_count": null,
   "metadata": {},
   "outputs": [],
   "source": [
    "from sklearn.model_selection import validation_curve\n",
    "poly = PolynomialFeatures()\n",
    "lin_model = linear_model.RidgeClassifier()\n",
    "pipe = Pipeline(steps=[('poly', poly), ('lin_model', lin_model)])\n",
    "train_scores, valid_scores = validation_curve(pipe, X, y, \"poly__degree\", range(1,20), cv=3)\n",
    "plt.plot(range(1, 20), train_scores.mean(axis=1), label=\"Train score\")\n",
    "plt.plot(range(1, 20), valid_scores.mean(axis=1), label=\"Validation score\")\n",
    "plt.grid()\n",
    "plt.xticks(range(1, 20))\n",
    "plt.legend()"
   ]
  },
  {
   "cell_type": "code",
   "execution_count": null,
   "metadata": {},
   "outputs": [],
   "source": []
  }
 ],
 "metadata": {
  "kernelspec": {
   "display_name": "Python 3",
   "language": "python",
   "name": "python3"
  },
  "language_info": {
   "codemirror_mode": {
    "name": "ipython",
    "version": 3
   },
   "file_extension": ".py",
   "mimetype": "text/x-python",
   "name": "python",
   "nbconvert_exporter": "python",
   "pygments_lexer": "ipython3",
   "version": "3.7.3"
  }
 },
 "nbformat": 4,
 "nbformat_minor": 2
}
