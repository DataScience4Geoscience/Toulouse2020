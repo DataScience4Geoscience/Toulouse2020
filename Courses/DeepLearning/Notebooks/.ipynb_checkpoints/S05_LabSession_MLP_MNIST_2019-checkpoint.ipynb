{
 "cells": [
  {
   "cell_type": "markdown",
   "metadata": {
    "colab_type": "text",
    "id": "e_nqPt-mcxl-"
   },
   "source": [
    "# Course on Data Science and Geosciences, 2019\n",
    "# Deep learning lecture"
   ]
  },
  {
   "cell_type": "markdown",
   "metadata": {
    "colab_type": "text",
    "id": "AfrokpZCcxl_"
   },
   "source": [
    "## Objective of this lab session: use a multiple layer perceptron to process MNIST dataset.\n",
    "\n",
    "\n",
    "MNIST is a simple computer vision dataset. It consists of images of handwritten digits. It also includes labels for each image, telling us which digit it is. In this lab session, we're going to train a model to look at images and predict what digits they are."
   ]
  },
  {
   "cell_type": "markdown",
   "metadata": {
    "colab_type": "text",
    "id": "TImLqVhWcxmA"
   },
   "source": [
    "First, start here with these lines of code which will download and read in the data automatically:"
   ]
  },
  {
   "cell_type": "code",
   "execution_count": 0,
   "metadata": {
    "colab": {},
    "colab_type": "code",
    "id": "BbIkMJtbcxmB"
   },
   "outputs": [],
   "source": [
    "from tensorflow import keras\n",
    "from tensorflow.keras.datasets import mnist\n",
    "\n",
    "(x_train, y_train), (x_test, y_test) = mnist.load_data()"
   ]
  },
  {
   "cell_type": "markdown",
   "metadata": {
    "colab_type": "text",
    "id": "7qBnrI_ecxmG"
   },
   "source": [
    "The MNIST data is split into two parts: 60,000 data points of training data, 10,000 points of test data. It's essential in machine learning that we have separate data which we don't learn from so that we can make sure that what we've learned actually generalizes!\n",
    "\n",
    "Every MNIST data point has two parts: an image of a handwritten digit and a corresponding label. \"x\" corresponds to images and \"y\" to labels. Both the training set and test set contain images and their corresponding labels.\n",
    "\n",
    "First, we will visualize some of the data:"
   ]
  },
  {
   "cell_type": "code",
   "execution_count": 3,
   "metadata": {
    "colab": {
     "base_uri": "https://localhost:8080/",
     "height": 303
    },
    "colab_type": "code",
    "executionInfo": {
     "elapsed": 1180,
     "status": "ok",
     "timestamp": 1547634355920,
     "user": {
      "displayName": "fablet ronan",
      "photoUrl": "",
      "userId": "05742647168436556635"
     },
     "user_tz": -60
    },
    "id": "_tiWuOAicxmG",
    "outputId": "fbc880aa-9086-4f2f-fa88-5e472647c35a"
   },
   "outputs": [
    {
     "data": {
      "image/png": "[encoded data removed]",
      "text/plain": [
       "<matplotlib.figure.Figure at 0x7f227461fe10>"
      ]
     },
     "metadata": {
      "tags": []
     },
     "output_type": "display_data"
    }
   ],
   "source": [
    "import matplotlib.pyplot as plt\n",
    "import numpy as np\n",
    "\n",
    "plt.figure()\n",
    "for i in range(10):\n",
    "  plt.subplot(2, 5, i + 1)\n",
    "  plt.axis('off')\n",
    "  index = np.where(y_train == i)[0][0]\n",
    "  plt.imshow(x_train[index,:,:], cmap=plt.cm.gray_r, interpolation='nearest')\n",
    "  plt.title('Training: %i' % y_train[index])\n",
    "plt.show()"
   ]
  },
  {
   "cell_type": "markdown",
   "metadata": {
    "colab_type": "text",
    "id": "2YWlcM6AcxmL"
   },
   "source": [
    "Each image is 28 pixels by 28 pixels. In this lab session, we flatten this array into a vector of 28x28 = 784 numbers.\n",
    "\n",
    "#### 1) Write the code to flatten the data:"
   ]
  },
  {
   "cell_type": "code",
   "execution_count": 0,
   "metadata": {
    "colab": {},
    "colab_type": "code",
    "id": "3jd9KqCicxmL"
   },
   "outputs": [],
   "source": [
    "x_train = x_train.reshape(60000, 784)\n",
    "x_test = x_test.reshape(10000, 784)"
   ]
  },
  {
   "cell_type": "markdown",
   "metadata": {
    "colab_type": "text",
    "id": "A-eX8LvccxmO"
   },
   "source": [
    "#### 2) Write the code to normalize pixel intensity between 0 and 1 of images:"
   ]
  },
  {
   "cell_type": "code",
   "execution_count": 0,
   "metadata": {
    "colab": {},
    "colab_type": "code",
    "id": "Z3YL5fuWcxmP"
   },
   "outputs": [],
   "source": [
    "x_train = x_train.astype('float32')\n",
    "x_test = x_test.astype('float32')\n",
    "x_train /= 255\n",
    "x_test /= 255"
   ]
  },
  {
   "cell_type": "markdown",
   "metadata": {
    "colab_type": "text",
    "id": "R6HvQfQwcxmS"
   },
   "source": [
    "Each image in MNIST has a corresponding label, a number between 0 and 9 representing the digit drawn in the image.\n",
    "\n",
    "In this lab session, we're going to want our labels as \"one-hot vectors\". A one-hot vector is a vector which is 0 in most dimensions, and 1 in a single dimension. In this case, the $n^{th}$ digit will be represented as a vector which is 1 in the $n^{th}$ dimension. For example, 3 would be $[0,0,0,1,0,0,0,0,0,0]$. \n",
    "\n",
    "#### 3) Convert the labels to one-hot vectors (using the function \"to_categorical\" available in Keras):"
   ]
  },
  {
   "cell_type": "code",
   "execution_count": 0,
   "metadata": {
    "colab": {},
    "colab_type": "code",
    "id": "dU7JiGtacxmT"
   },
   "outputs": [],
   "source": [
    "num_classes = 10\n",
    "z_train = keras.utils.to_categorical(y_train, num_classes)\n",
    "z_test = keras.utils.to_categorical(y_test, num_classes)"
   ]
  },
  {
   "cell_type": "markdown",
   "metadata": {
    "colab_type": "text",
    "id": "AqJ1shtxcxmV"
   },
   "source": [
    "### Softmax Regression\n",
    "\n",
    "Every image in MNIST is of a handwritten digit between zero and nine. So there are only ten possible things that a given image can be. For a given image, we want to compute the probabilities for it being each digit. In this part, we will use a softmax regression model:\n",
    "\n",
    "$$ y = softmax(Wx+b)$$\n",
    "\n",
    "where $softmax$ is the normalized exponential function."
   ]
  },
  {
   "cell_type": "markdown",
   "metadata": {
    "colab_type": "text",
    "id": "r47mHE5scxmW"
   },
   "source": [
    "#### 4)  Define a Keras network architecture for softmax regression using Sequential API (https://keras.io/models/sequential/). Use a Dense layer to define the softmax regression (https://keras.io/layers/core/#dense)."
   ]
  },
  {
   "cell_type": "code",
   "execution_count": 7,
   "metadata": {
    "colab": {
     "base_uri": "https://localhost:8080/",
     "height": 170
    },
    "colab_type": "code",
    "executionInfo": {
     "elapsed": 522,
     "status": "ok",
     "timestamp": 1547634365222,
     "user": {
      "displayName": "fablet ronan",
      "photoUrl": "",
      "userId": "05742647168436556635"
     },
     "user_tz": -60
    },
    "id": "4L1kpAx_cxmX",
    "outputId": "f1450d2b-10eb-4031-e73e-f390ebe6002f"
   },
   "outputs": [
    {
     "name": "stdout",
     "output_type": "stream",
     "text": [
      "_________________________________________________________________\n",
      "Layer (type)                 Output Shape              Param #   \n",
      "=================================================================\n",
      "dense_1 (Dense)              (None, 10)                7850      \n",
      "=================================================================\n",
      "Total params: 7,850\n",
      "Trainable params: 7,850\n",
      "Non-trainable params: 0\n",
      "_________________________________________________________________\n"
     ]
    }
   ],
   "source": [
    "from keras.models import Sequential\n",
    "from keras.layers import Dense\n",
    "\n",
    "# y = softmax (Wx+b)\n",
    "model = Sequential()\n",
    "model.add(Dense(num_classes, activation='softmax', input_shape=(784,)))\n",
    "\n",
    "model.summary()"
   ]
  },
  {
   "cell_type": "markdown",
   "metadata": {
    "colab_type": "text",
    "id": "-aqEKxxqcxmb"
   },
   "source": [
    "#### 5) How many trainable parameters are there?"
   ]
  },
  {
   "cell_type": "markdown",
   "metadata": {
    "colab_type": "text",
    "id": "deK1kljfcxmb"
   },
   "source": [
    "We now have to define the loss function. We try to minimize that error, and the smaller the error margin, the better our model is. In this lab session, \"cross-entropy\" is used as the loss of the model. It's defined as:\n",
    "\n",
    "$$H_{y}(z) = - \\sum_i y_i \\log(z_i)$$\n",
    "\n",
    "where $z$ is our predicted probability distribution, and $y$ is the true distribution (the one-hot vector with the digit labels). \n",
    "\n",
    "Now we need to specify the optimization algorithm that will be used to minimized the loss function. Here, we will use RMSprop. We will also specify a metric (here 'accuracy') to follow the convergence of the training step.\n",
    "\n",
    "#### 6) Specify in the Keras model the loss function, the optimization algorithm and the metric (see https://keras.io/models/sequential/#compile):  "
   ]
  },
  {
   "cell_type": "code",
   "execution_count": 0,
   "metadata": {
    "colab": {},
    "colab_type": "code",
    "id": "_5zVotrecxmd"
   },
   "outputs": [],
   "source": [
    "from keras.optimizers import RMSprop\n",
    "\n",
    "model.compile(loss='categorical_crossentropy',\n",
    "              optimizer=RMSprop(),\n",
    "              metrics=['accuracy'])\n"
   ]
  },
  {
   "cell_type": "markdown",
   "metadata": {
    "colab_type": "text",
    "id": "pnspNrMicxme"
   },
   "source": [
    "#### 7) Write the code to train the model:"
   ]
  },
  {
   "cell_type": "code",
   "execution_count": 11,
   "metadata": {
    "colab": {
     "base_uri": "https://localhost:8080/",
     "height": 734
    },
    "colab_type": "code",
    "executionInfo": {
     "elapsed": 18985,
     "status": "ok",
     "timestamp": 1547634491814,
     "user": {
      "displayName": "fablet ronan",
      "photoUrl": "",
      "userId": "05742647168436556635"
     },
     "user_tz": -60
    },
    "id": "fJhLeo5Ocxmf",
    "outputId": "6a1c1cce-7c5c-47cf-80dd-cdd7c69f5c73"
   },
   "outputs": [
    {
     "name": "stdout",
     "output_type": "stream",
     "text": [
      "Train on 60000 samples, validate on 10000 samples\n",
      "Epoch 1/20\n",
      "60000/60000 [==============================] - 1s 16us/step - loss: 0.2512 - acc: 0.9324 - val_loss: 0.2709 - val_acc: 0.9277\n",
      "Epoch 2/20\n",
      "60000/60000 [==============================] - 1s 16us/step - loss: 0.2507 - acc: 0.9325 - val_loss: 0.2705 - val_acc: 0.9293\n",
      "Epoch 3/20\n",
      "60000/60000 [==============================] - 1s 16us/step - loss: 0.2501 - acc: 0.9324 - val_loss: 0.2704 - val_acc: 0.9283\n",
      "Epoch 4/20\n",
      "60000/60000 [==============================] - 1s 15us/step - loss: 0.2497 - acc: 0.9330 - val_loss: 0.2710 - val_acc: 0.9286\n",
      "Epoch 5/20\n",
      "60000/60000 [==============================] - 1s 15us/step - loss: 0.2495 - acc: 0.9328 - val_loss: 0.2704 - val_acc: 0.9287\n",
      "Epoch 6/20\n",
      "60000/60000 [==============================] - 1s 15us/step - loss: 0.2488 - acc: 0.9335 - val_loss: 0.2708 - val_acc: 0.9289\n",
      "Epoch 7/20\n",
      "60000/60000 [==============================] - 1s 15us/step - loss: 0.2485 - acc: 0.9333 - val_loss: 0.2737 - val_acc: 0.9272\n",
      "Epoch 8/20\n",
      "60000/60000 [==============================] - 1s 16us/step - loss: 0.2479 - acc: 0.9336 - val_loss: 0.2739 - val_acc: 0.9279\n",
      "Epoch 9/20\n",
      "60000/60000 [==============================] - 1s 15us/step - loss: 0.2477 - acc: 0.9339 - val_loss: 0.2741 - val_acc: 0.9270\n",
      "Epoch 10/20\n",
      "60000/60000 [==============================] - 1s 15us/step - loss: 0.2476 - acc: 0.9340 - val_loss: 0.2727 - val_acc: 0.9286\n",
      "Epoch 11/20\n",
      "60000/60000 [==============================] - 1s 15us/step - loss: 0.2472 - acc: 0.9338 - val_loss: 0.2774 - val_acc: 0.9270\n",
      "Epoch 12/20\n",
      "60000/60000 [==============================] - 1s 15us/step - loss: 0.2468 - acc: 0.9341 - val_loss: 0.2737 - val_acc: 0.9285\n",
      "Epoch 13/20\n",
      "60000/60000 [==============================] - 1s 15us/step - loss: 0.2466 - acc: 0.9342 - val_loss: 0.2769 - val_acc: 0.9280\n",
      "Epoch 14/20\n",
      "60000/60000 [==============================] - 1s 15us/step - loss: 0.2463 - acc: 0.9348 - val_loss: 0.2749 - val_acc: 0.9282\n",
      "Epoch 15/20\n",
      "60000/60000 [==============================] - 1s 15us/step - loss: 0.2460 - acc: 0.9343 - val_loss: 0.2745 - val_acc: 0.9291\n",
      "Epoch 16/20\n",
      "60000/60000 [==============================] - 1s 16us/step - loss: 0.2459 - acc: 0.9346 - val_loss: 0.2768 - val_acc: 0.9284\n",
      "Epoch 17/20\n",
      "60000/60000 [==============================] - 1s 16us/step - loss: 0.2456 - acc: 0.9354 - val_loss: 0.2758 - val_acc: 0.9285\n",
      "Epoch 18/20\n",
      "60000/60000 [==============================] - 1s 15us/step - loss: 0.2453 - acc: 0.9352 - val_loss: 0.2763 - val_acc: 0.9288\n",
      "Epoch 19/20\n",
      "60000/60000 [==============================] - 1s 15us/step - loss: 0.2452 - acc: 0.9352 - val_loss: 0.2787 - val_acc: 0.9271\n",
      "Epoch 20/20\n",
      "60000/60000 [==============================] - 1s 15us/step - loss: 0.2452 - acc: 0.9349 - val_loss: 0.2776 - val_acc: 0.9284\n"
     ]
    }
   ],
   "source": [
    "batch_size = 128\n",
    "epochs = 20\n",
    "\n",
    "history = model.fit(x_train, z_train,\n",
    "                    batch_size=batch_size,\n",
    "                    epochs=epochs,\n",
    "                    verbose=1,\n",
    "                    validation_data=(x_test, z_test))"
   ]
  },
  {
   "cell_type": "markdown",
   "metadata": {
    "colab_type": "text",
    "id": "hXV5ApbAcxmi"
   },
   "source": [
    "To study the convergence of the training step, we will plot the evolution of the accuracy for both training and testing data with respect to the epochs. The code to do this is provided below.\n",
    "\n",
    "#### 8) Study the convergence figure and the evaluation score."
   ]
  },
  {
   "cell_type": "code",
   "execution_count": 10,
   "metadata": {
    "colab": {
     "base_uri": "https://localhost:8080/",
     "height": 427
    },
    "colab_type": "code",
    "executionInfo": {
     "elapsed": 848,
     "status": "ok",
     "timestamp": 1547634413788,
     "user": {
      "displayName": "fablet ronan",
      "photoUrl": "",
      "userId": "05742647168436556635"
     },
     "user_tz": -60
    },
    "id": "9SJh4caEcxmj",
    "outputId": "c91a4ddc-f6ad-4757-926e-8df583561433"
   },
   "outputs": [
    {
     "name": "stdout",
     "output_type": "stream",
     "text": [
      "dict_keys(['val_loss', 'val_acc', 'loss', 'acc'])\n"
     ]
    },
    {
     "data": {
      "image/png": "[encoded data removed]",
      "text/plain": [
       "<matplotlib.figure.Figure at 0x7f2274129cc0>"
      ]
     },
     "metadata": {
      "tags": []
     },
     "output_type": "display_data"
    },
    {
     "name": "stdout",
     "output_type": "stream",
     "text": [
      "Test loss: 0.26869223829060795\n",
      "Test accuracy: 0.9275\n"
     ]
    }
   ],
   "source": [
    "# list all data in history\n",
    "print(history.history.keys())\n",
    "\n",
    "#Visualize history (loss vs epochs)\n",
    "plt.figure()\n",
    "plt.plot(history.history['acc'])\n",
    "plt.plot(history.history['val_acc'])\n",
    "plt.title('model acc')\n",
    "plt.ylabel('acc')  \n",
    "plt.xlabel('epochs')\n",
    "plt.legend(['train','val'], loc='upper left')\n",
    "plt.show()\n",
    "\n",
    "score = model.evaluate(x_test, z_test, verbose=0)\n",
    "print('Test loss:', score[0])\n",
    "print('Test accuracy:', score[1])\n"
   ]
  },
  {
   "cell_type": "markdown",
   "metadata": {
    "colab_type": "text",
    "id": "qKcqfmE8cxmm"
   },
   "source": [
    "Is that good? Compare your results with the score of the current best models: https://rodrigob.github.io/are_we_there_yet/build/classification_datasets_results"
   ]
  },
  {
   "cell_type": "markdown",
   "metadata": {
    "colab_type": "text",
    "id": "t1QyQ6iacxmo"
   },
   "source": [
    "#### 9) Write code to visualize the incorrect predictions:"
   ]
  },
  {
   "cell_type": "code",
   "execution_count": 12,
   "metadata": {
    "colab": {
     "base_uri": "https://localhost:8080/",
     "height": 303
    },
    "colab_type": "code",
    "executionInfo": {
     "elapsed": 1221,
     "status": "ok",
     "timestamp": 1547634562981,
     "user": {
      "displayName": "fablet ronan",
      "photoUrl": "",
      "userId": "05742647168436556635"
     },
     "user_tz": -60
    },
    "id": "BPEiO7-0cxmo",
    "outputId": "ea24c296-5ab1-46f3-e815-7cc80a0229d8"
   },
   "outputs": [
    {
     "data": {
      "image/png": "[encoded data removed]",
      "text/plain": [
       "<matplotlib.figure.Figure at 0x7f22741b7c18>"
      ]
     },
     "metadata": {
      "tags": []
     },
     "output_type": "display_data"
    }
   ],
   "source": [
    "z_pred = model.predict(x_test)\n",
    "\n",
    "\n",
    "y_pred = np.argmax(z_pred,axis=1)\n",
    "index = np.where(y_pred - y_test != 0)\n",
    "im_test = x_test.reshape(10000, 28, 28)\n",
    "\n",
    "plt.figure()\n",
    "for i in range(10):\n",
    "  plt.subplot(2, 5, i + 1)\n",
    "  plt.axis('off')\n",
    "  plt.imshow(im_test[index[0][i],:,:], cmap=plt.cm.gray_r, interpolation='nearest')\n",
    "  plt.title(str(y_test[index[0][i]])+','+str(y_pred[index[0][i]]) )\n",
    "plt.show()"
   ]
  },
  {
   "cell_type": "markdown",
   "metadata": {
    "colab_type": "text",
    "id": "pZGHgBZdcxmr"
   },
   "source": [
    "#### 10) Study the confusion matrix:"
   ]
  },
  {
   "cell_type": "code",
   "execution_count": 13,
   "metadata": {
    "colab": {
     "base_uri": "https://localhost:8080/",
     "height": 432
    },
    "colab_type": "code",
    "executionInfo": {
     "elapsed": 1650,
     "status": "ok",
     "timestamp": 1547634572232,
     "user": {
      "displayName": "fablet ronan",
      "photoUrl": "",
      "userId": "05742647168436556635"
     },
     "user_tz": -60
    },
    "id": "ZKCLwn8tcxms",
    "outputId": "0e5f9790-f898-46f9-a61e-0ffb116806f3"
   },
   "outputs": [
    {
     "name": "stdout",
     "output_type": "stream",
     "text": [
      "Normalized confusion matrix\n"
     ]
    },
    {
     "data": {
      "image/png": "[encoded data removed]",
      "text/plain": [
       "<matplotlib.figure.Figure at 0x7f226c931710>"
      ]
     },
     "metadata": {
      "tags": []
     },
     "output_type": "display_data"
    }
   ],
   "source": [
    "from sklearn.metrics import confusion_matrix\n",
    "import itertools\n",
    "\n",
    "class_names= ['0','1','2','3','4','5','6','7','8','9']\n",
    "\n",
    "def plot_confusion_matrix(cm, classes,\n",
    "                          normalize=False,\n",
    "                          title='Confusion matrix',\n",
    "                          cmap=plt.cm.Blues):\n",
    "    \"\"\"\n",
    "    This function prints and plots the confusion matrix.\n",
    "    Normalization can be applied by setting `normalize=True`.\n",
    "    \"\"\"\n",
    "    if normalize:\n",
    "        cm = cm.astype('float') / cm.sum(axis=1)[:, np.newaxis]\n",
    "        print(\"Normalized confusion matrix\")\n",
    "    else:\n",
    "        print('Confusion matrix, without normalization')\n",
    "\n",
    "    #print(cm)\n",
    "\n",
    "    plt.imshow(cm, interpolation='nearest', cmap=cmap)\n",
    "    plt.title(title)\n",
    "    plt.colorbar()\n",
    "    tick_marks = np.arange(len(classes))\n",
    "    plt.xticks(tick_marks, classes, rotation=45)\n",
    "    plt.yticks(tick_marks, classes)\n",
    "\n",
    "    fmt = '.2f' if normalize else 'd'\n",
    "    thresh = cm.max() / 2.\n",
    "    for i, j in itertools.product(range(cm.shape[0]), range(cm.shape[1])):\n",
    "        plt.text(j, i, format(cm[i, j], fmt),\n",
    "                 horizontalalignment=\"center\",\n",
    "                 color=\"white\" if cm[i, j] > thresh else \"black\")\n",
    "\n",
    "    plt.tight_layout()\n",
    "    plt.ylabel('True label')\n",
    "    plt.xlabel('Predicted label')\n",
    "\n",
    "# Compute confusion matrix\n",
    "cnf_matrix = confusion_matrix(y_test, y_pred)\n",
    "np.set_printoptions(precision=2)\n",
    "\n",
    "# Plot normalized confusion matrix\n",
    "plt.figure()\n",
    "plot_confusion_matrix(cnf_matrix, classes=class_names, normalize=True,\n",
    "                      title='Normalized confusion matrix')\n",
    "\n",
    "plt.show()"
   ]
  },
  {
   "cell_type": "markdown",
   "metadata": {
    "colab_type": "text",
    "id": "Qu-g10vPcxmy"
   },
   "source": [
    "### Multiple layer network\n",
    "\n",
    "#### 9) Build a multiple layer dense network to reach 98% of accuracy (at least!)."
   ]
  },
  {
   "cell_type": "code",
   "execution_count": 14,
   "metadata": {
    "colab": {
     "base_uri": "https://localhost:8080/",
     "height": 1467
    },
    "colab_type": "code",
    "executionInfo": {
     "elapsed": 170835,
     "status": "ok",
     "timestamp": 1547634755867,
     "user": {
      "displayName": "fablet ronan",
      "photoUrl": "",
      "userId": "05742647168436556635"
     },
     "user_tz": -60
    },
    "id": "MPnKHgjMcxmz",
    "outputId": "a20f7dee-2917-4288-f9d9-7b33bb2afd73"
   },
   "outputs": [
    {
     "name": "stdout",
     "output_type": "stream",
     "text": [
      "(10000, 784)\n",
      "_________________________________________________________________\n",
      "Layer (type)                 Output Shape              Param #   \n",
      "=================================================================\n",
      "dense_2 (Dense)              (None, 512)               401920    \n",
      "_________________________________________________________________\n",
      "dropout_1 (Dropout)          (None, 512)               0         \n",
      "_________________________________________________________________\n",
      "dense_3 (Dense)              (None, 512)               262656    \n",
      "_________________________________________________________________\n",
      "dropout_2 (Dropout)          (None, 512)               0         \n",
      "_________________________________________________________________\n",
      "dense_4 (Dense)              (None, 10)                5130      \n",
      "=================================================================\n",
      "Total params: 669,706\n",
      "Trainable params: 669,706\n",
      "Non-trainable params: 0\n",
      "_________________________________________________________________\n",
      "Train on 60000 samples, validate on 10000 samples\n",
      "Epoch 1/20\n",
      "60000/60000 [==============================] - 9s 144us/step - loss: 0.2592 - acc: 0.9204 - val_loss: 0.1249 - val_acc: 0.9607\n",
      "Epoch 2/20\n",
      "60000/60000 [==============================] - 8s 139us/step - loss: 0.1319 - acc: 0.9588 - val_loss: 0.1097 - val_acc: 0.9655\n",
      "Epoch 3/20\n",
      "60000/60000 [==============================] - 8s 140us/step - loss: 0.1053 - acc: 0.9681 - val_loss: 0.0919 - val_acc: 0.9742\n",
      "Epoch 4/20\n",
      "60000/60000 [==============================] - 8s 141us/step - loss: 0.0919 - acc: 0.9725 - val_loss: 0.1344 - val_acc: 0.9622\n",
      "Epoch 5/20\n",
      "60000/60000 [==============================] - 8s 140us/step - loss: 0.0845 - acc: 0.9754 - val_loss: 0.0775 - val_acc: 0.9790\n",
      "Epoch 6/20\n",
      "60000/60000 [==============================] - 8s 141us/step - loss: 0.0786 - acc: 0.9773 - val_loss: 0.0971 - val_acc: 0.9764\n",
      "Epoch 7/20\n",
      "60000/60000 [==============================] - 9s 142us/step - loss: 0.0739 - acc: 0.9784 - val_loss: 0.0881 - val_acc: 0.9763\n",
      "Epoch 8/20\n",
      "60000/60000 [==============================] - 8s 138us/step - loss: 0.0715 - acc: 0.9801 - val_loss: 0.0994 - val_acc: 0.9780\n",
      "Epoch 9/20\n",
      "60000/60000 [==============================] - 8s 140us/step - loss: 0.0685 - acc: 0.9816 - val_loss: 0.1065 - val_acc: 0.9776\n",
      "Epoch 10/20\n",
      "60000/60000 [==============================] - 9s 146us/step - loss: 0.0662 - acc: 0.9815 - val_loss: 0.1103 - val_acc: 0.9749\n",
      "Epoch 11/20\n",
      "60000/60000 [==============================] - 9s 145us/step - loss: 0.0655 - acc: 0.9825 - val_loss: 0.1035 - val_acc: 0.9792\n",
      "Epoch 12/20\n",
      "60000/60000 [==============================] - 8s 140us/step - loss: 0.0637 - acc: 0.9833 - val_loss: 0.1020 - val_acc: 0.9774\n",
      "Epoch 13/20\n",
      "60000/60000 [==============================] - 8s 138us/step - loss: 0.0605 - acc: 0.9838 - val_loss: 0.1247 - val_acc: 0.9772\n",
      "Epoch 14/20\n",
      "60000/60000 [==============================] - 8s 135us/step - loss: 0.0611 - acc: 0.9843 - val_loss: 0.0988 - val_acc: 0.9808\n",
      "Epoch 15/20\n",
      "60000/60000 [==============================] - 8s 138us/step - loss: 0.0605 - acc: 0.9854 - val_loss: 0.1019 - val_acc: 0.9813\n",
      "Epoch 16/20\n",
      "60000/60000 [==============================] - 8s 138us/step - loss: 0.0597 - acc: 0.9850 - val_loss: 0.1067 - val_acc: 0.9799\n",
      "Epoch 17/20\n",
      "60000/60000 [==============================] - 8s 136us/step - loss: 0.0589 - acc: 0.9849 - val_loss: 0.1151 - val_acc: 0.9797\n",
      "Epoch 18/20\n",
      "60000/60000 [==============================] - 8s 140us/step - loss: 0.0552 - acc: 0.9864 - val_loss: 0.1323 - val_acc: 0.9789\n",
      "Epoch 19/20\n",
      "60000/60000 [==============================] - 8s 140us/step - loss: 0.0577 - acc: 0.9865 - val_loss: 0.1364 - val_acc: 0.9767\n",
      "Epoch 20/20\n",
      "60000/60000 [==============================] - 8s 141us/step - loss: 0.0578 - acc: 0.9868 - val_loss: 0.1031 - val_acc: 0.9835\n",
      "Test loss: 0.10311590482216239\n",
      "Test accuracy: 0.9835\n"
     ]
    },
    {
     "data": {
      "image/png": "[encoded data removed]",
      "text/plain": [
       "<matplotlib.figure.Figure at 0x7f226c086550>"
      ]
     },
     "metadata": {
      "tags": []
     },
     "output_type": "display_data"
    },
    {
     "name": "stdout",
     "output_type": "stream",
     "text": [
      "Test loss: 0.10311590482216239\n",
      "Test accuracy: 0.9835\n"
     ]
    }
   ],
   "source": [
    "from keras.layers import Dropout\n",
    "\n",
    "print(x_test.shape)\n",
    "\n",
    "model = Sequential()\n",
    "model.add(Dense(512, activation=None, input_shape=(784,)))\n",
    "model.add(Dropout(0.2))\n",
    "model.add(Dense(512, activation='relu'))\n",
    "model.add(Dropout(0.2))\n",
    "model.add(Dense(num_classes, activation='softmax'))\n",
    "\n",
    "model.summary()\n",
    "\n",
    "model.compile(loss='categorical_crossentropy',\n",
    "              optimizer=RMSprop(),\n",
    "              metrics=['accuracy'])\n",
    "\n",
    "history = model.fit(x_train, z_train,\n",
    "                    batch_size=batch_size,\n",
    "                    epochs=epochs,\n",
    "                    verbose=1,\n",
    "                    validation_data=(x_test, z_test))\n",
    "score = model.evaluate(x_test, z_test, verbose=0)\n",
    "print('Test loss:', score[0])\n",
    "print('Test accuracy:', score[1])\n",
    "\n",
    "#Visualize history (loss vs epochs)\n",
    "plt.figure()\n",
    "plt.plot(history.history['acc'])\n",
    "plt.plot(history.history['val_acc'])\n",
    "plt.title('model acc')\n",
    "plt.ylabel('acc')  \n",
    "plt.xlabel('epochs')\n",
    "plt.legend(['train','val'], loc='upper left')\n",
    "plt.show()\n",
    "\n",
    "score = model.evaluate(x_test, z_test, verbose=0)\n",
    "print('Test loss:', score[0])\n",
    "print('Test accuracy:', score[1])"
   ]
  },
  {
   "cell_type": "code",
   "execution_count": 15,
   "metadata": {
    "colab": {
     "base_uri": "https://localhost:8080/",
     "height": 734
    },
    "colab_type": "code",
    "executionInfo": {
     "elapsed": 168011,
     "status": "ok",
     "timestamp": 1547635011457,
     "user": {
      "displayName": "fablet ronan",
      "photoUrl": "",
      "userId": "05742647168436556635"
     },
     "user_tz": -60
    },
    "id": "p3gb9etnOY6l",
    "outputId": "5eca5afd-fc33-4a98-89bd-c4bcf4b2707c"
   },
   "outputs": [
    {
     "name": "stdout",
     "output_type": "stream",
     "text": [
      "Train on 60000 samples, validate on 10000 samples\n",
      "Epoch 1/20\n",
      "60000/60000 [==============================] - 8s 140us/step - loss: 0.0556 - acc: 0.9868 - val_loss: 0.1200 - val_acc: 0.9790\n",
      "Epoch 2/20\n",
      "60000/60000 [==============================] - 9s 143us/step - loss: 0.0548 - acc: 0.9873 - val_loss: 0.1242 - val_acc: 0.9802\n",
      "Epoch 3/20\n",
      "60000/60000 [==============================] - 8s 140us/step - loss: 0.0544 - acc: 0.9880 - val_loss: 0.1172 - val_acc: 0.9802\n",
      "Epoch 4/20\n",
      "60000/60000 [==============================] - 9s 143us/step - loss: 0.0515 - acc: 0.9882 - val_loss: 0.1443 - val_acc: 0.9784\n",
      "Epoch 5/20\n",
      "60000/60000 [==============================] - 8s 140us/step - loss: 0.0563 - acc: 0.9880 - val_loss: 0.1478 - val_acc: 0.9784\n",
      "Epoch 6/20\n",
      "60000/60000 [==============================] - 8s 140us/step - loss: 0.0559 - acc: 0.9882 - val_loss: 0.1659 - val_acc: 0.9755\n",
      "Epoch 7/20\n",
      "60000/60000 [==============================] - 9s 143us/step - loss: 0.0575 - acc: 0.9880 - val_loss: 0.1306 - val_acc: 0.9816\n",
      "Epoch 8/20\n",
      "60000/60000 [==============================] - 8s 139us/step - loss: 0.0613 - acc: 0.9874 - val_loss: 0.1361 - val_acc: 0.9794\n",
      "Epoch 9/20\n",
      "60000/60000 [==============================] - 8s 140us/step - loss: 0.0536 - acc: 0.9891 - val_loss: 0.1651 - val_acc: 0.9763\n",
      "Epoch 10/20\n",
      "60000/60000 [==============================] - 8s 139us/step - loss: 0.0573 - acc: 0.9884 - val_loss: 0.1477 - val_acc: 0.9801\n",
      "Epoch 11/20\n",
      "60000/60000 [==============================] - 8s 139us/step - loss: 0.0516 - acc: 0.9894 - val_loss: 0.1454 - val_acc: 0.9794\n",
      "Epoch 12/20\n",
      "60000/60000 [==============================] - 8s 137us/step - loss: 0.0583 - acc: 0.9882 - val_loss: 0.1460 - val_acc: 0.9798\n",
      "Epoch 13/20\n",
      "60000/60000 [==============================] - 8s 137us/step - loss: 0.0534 - acc: 0.9894 - val_loss: 0.1634 - val_acc: 0.9784\n",
      "Epoch 14/20\n",
      "60000/60000 [==============================] - 8s 135us/step - loss: 0.0577 - acc: 0.9894 - val_loss: 0.1766 - val_acc: 0.9791\n",
      "Epoch 15/20\n",
      "60000/60000 [==============================] - 8s 137us/step - loss: 0.0515 - acc: 0.9898 - val_loss: 0.1453 - val_acc: 0.9824\n",
      "Epoch 16/20\n",
      "60000/60000 [==============================] - 8s 140us/step - loss: 0.0564 - acc: 0.9894 - val_loss: 0.1547 - val_acc: 0.9804\n",
      "Epoch 17/20\n",
      "60000/60000 [==============================] - 9s 147us/step - loss: 0.0504 - acc: 0.9897 - val_loss: 0.1457 - val_acc: 0.9796\n",
      "Epoch 18/20\n",
      "60000/60000 [==============================] - 8s 140us/step - loss: 0.0515 - acc: 0.9902 - val_loss: 0.1505 - val_acc: 0.9811\n",
      "Epoch 19/20\n",
      "60000/60000 [==============================] - 8s 139us/step - loss: 0.0553 - acc: 0.9897 - val_loss: 0.1675 - val_acc: 0.9814\n",
      "Epoch 20/20\n",
      "60000/60000 [==============================] - 8s 136us/step - loss: 0.0575 - acc: 0.9900 - val_loss: 0.1452 - val_acc: 0.9828\n"
     ]
    }
   ],
   "source": [
    "history = model.fit(x_train, z_train,\n",
    "                    batch_size=batch_size,\n",
    "                    epochs=epochs,\n",
    "                    verbose=1,\n",
    "                    validation_data=(x_test, z_test))"
   ]
  },
  {
   "cell_type": "code",
   "execution_count": 0,
   "metadata": {
    "colab": {},
    "colab_type": "code",
    "id": "erNOv4qxcxm2"
   },
   "outputs": [],
   "source": []
  }
 ],
 "metadata": {
  "colab": {
   "name": "S05_LabSession_MLP_MNIST_2019.ipynb",
   "provenance": [],
   "version": "0.3.2"
  },
  "kernelspec": {
   "display_name": "Python 3",
   "language": "python",
   "name": "python3"
  },
  "language_info": {
   "codemirror_mode": {
    "name": "ipython",
    "version": 3
   },
   "file_extension": ".py",
   "mimetype": "text/x-python",
   "name": "python",
   "nbconvert_exporter": "python",
   "pygments_lexer": "ipython3",
   "version": "3.5.4"
  }
 },
 "nbformat": 4,
 "nbformat_minor": 1
}
